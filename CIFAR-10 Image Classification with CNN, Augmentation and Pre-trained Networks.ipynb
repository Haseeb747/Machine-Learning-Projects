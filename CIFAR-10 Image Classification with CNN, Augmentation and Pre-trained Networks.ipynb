{
  "cells": [
    {
      "cell_type": "code",
      "execution_count": 5,
      "metadata": {
        "id": "4PhZu5Jn-cl-"
      },
      "outputs": [],
      "source": [
        "import tensorflow as tf\n",
        "from tensorflow.keras.utils import image_dataset_from_directory\n",
        "import numpy as np\n",
        "from tensorflow.keras import datasets, layers, models\n",
        "import matplotlib.pyplot as plt\n",
        "from tensorflow import keras"
      ]
    },
    {
      "cell_type": "code",
      "execution_count": null,
      "metadata": {
        "colab": {
          "base_uri": "https://localhost:8080/"
        },
        "id": "VOsSL7Yxlj7V",
        "outputId": "ebbd4a66-f443-485b-860a-3d5c5e5d3f13"
      },
      "outputs": [
        {
          "name": "stdout",
          "output_type": "stream",
          "text": [
            "Drive already mounted at /content/drive; to attempt to forcibly remount, call drive.mount(\"/content/drive\", force_remount=True).\n"
          ]
        }
      ],
      "source": [
        "from google.colab import drive\n",
        "drive.mount('/content/drive')"
      ]
    },
    {
      "cell_type": "code",
      "execution_count": null,
      "metadata": {
        "id": "tCmVtEJR-8Lr"
      },
      "outputs": [],
      "source": [
        "(x_train, y_train), (x_test, y_test) = datasets.cifar10.load_data()"
      ]
    },
    {
      "cell_type": "code",
      "execution_count": null,
      "metadata": {
        "colab": {
          "base_uri": "https://localhost:8080/"
        },
        "id": "tXXra2H0_Jko",
        "outputId": "8fb6adcb-5f74-429c-cc46-cd7ebd4ae4c5"
      },
      "outputs": [
        {
          "data": {
            "text/plain": [
              "(50000, 32, 32, 3)"
            ]
          },
          "execution_count": 3,
          "metadata": {},
          "output_type": "execute_result"
        }
      ],
      "source": [
        "x_train.shape"
      ]
    },
    {
      "cell_type": "code",
      "execution_count": null,
      "metadata": {
        "colab": {
          "base_uri": "https://localhost:8080/"
        },
        "id": "kHto7RPg_LU-",
        "outputId": "5b570e32-38b0-4ec0-d99b-f925c8b416ea"
      },
      "outputs": [
        {
          "data": {
            "text/plain": [
              "(10000, 32, 32, 3)"
            ]
          },
          "execution_count": 4,
          "metadata": {},
          "output_type": "execute_result"
        }
      ],
      "source": [
        "x_test.shape"
      ]
    },
    {
      "cell_type": "code",
      "execution_count": null,
      "metadata": {
        "colab": {
          "base_uri": "https://localhost:8080/",
          "height": 332
        },
        "id": "s7EwSr3v_N9y",
        "outputId": "da1cac98-4c94-42ff-e917-037c2c283009"
      },
      "outputs": [
        {
          "name": "stderr",
          "output_type": "stream",
          "text": [
            "/usr/local/lib/python3.7/dist-packages/matplotlib/text.py:1165: FutureWarning: elementwise comparison failed; returning scalar instead, but in the future will perform elementwise comparison\n",
            "  if s != self._text:\n"
          ]
        },
        {
          "data": {
            "text/plain": [
              "Text(0.5, 0, '[6]')"
            ]
          },
          "execution_count": 5,
          "metadata": {},
          "output_type": "execute_result"
        },
        {
          "data": {
            "image/png": "[encoded data removed]",
            "text/plain": [
              "<Figure size 432x288 with 1 Axes>"
            ]
          },
          "metadata": {
            "needs_background": "light"
          },
          "output_type": "display_data"
        }
      ],
      "source": [
        "plt.imshow(x_train[0])\n",
        "plt.xlabel(y_train[0])"
      ]
    },
    {
      "cell_type": "code",
      "execution_count": null,
      "metadata": {
        "colab": {
          "base_uri": "https://localhost:8080/"
        },
        "id": "gRfKz8PqAkyV",
        "outputId": "fd6c315d-3612-43ec-f500-3e145dce3c5f"
      },
      "outputs": [
        {
          "name": "stdout",
          "output_type": "stream",
          "text": [
            "[[[ 59  62  63]\n",
            "  [ 43  46  45]\n",
            "  [ 50  48  43]\n",
            "  ...\n",
            "  [158 132 108]\n",
            "  [152 125 102]\n",
            "  [148 124 103]]\n",
            "\n",
            " [[ 16  20  20]\n",
            "  [  0   0   0]\n",
            "  [ 18   8   0]\n",
            "  ...\n",
            "  [123  88  55]\n",
            "  [119  83  50]\n",
            "  [122  87  57]]\n",
            "\n",
            " [[ 25  24  21]\n",
            "  [ 16   7   0]\n",
            "  [ 49  27   8]\n",
            "  ...\n",
            "  [118  84  50]\n",
            "  [120  84  50]\n",
            "  [109  73  42]]\n",
            "\n",
            " ...\n",
            "\n",
            " [[208 170  96]\n",
            "  [201 153  34]\n",
            "  [198 161  26]\n",
            "  ...\n",
            "  [160 133  70]\n",
            "  [ 56  31   7]\n",
            "  [ 53  34  20]]\n",
            "\n",
            " [[180 139  96]\n",
            "  [173 123  42]\n",
            "  [186 144  30]\n",
            "  ...\n",
            "  [184 148  94]\n",
            "  [ 97  62  34]\n",
            "  [ 83  53  34]]\n",
            "\n",
            " [[177 144 116]\n",
            "  [168 129  94]\n",
            "  [179 142  87]\n",
            "  ...\n",
            "  [216 184 140]\n",
            "  [151 118  84]\n",
            "  [123  92  72]]]\n",
            "[[[158 112  49]\n",
            "  [159 111  47]\n",
            "  [165 116  51]\n",
            "  ...\n",
            "  [137  95  36]\n",
            "  [126  91  36]\n",
            "  [116  85  33]]\n",
            "\n",
            " [[152 112  51]\n",
            "  [151 110  40]\n",
            "  [159 114  45]\n",
            "  ...\n",
            "  [136  95  31]\n",
            "  [125  91  32]\n",
            "  [119  88  34]]\n",
            "\n",
            " [[151 110  47]\n",
            "  [151 109  33]\n",
            "  [158 111  36]\n",
            "  ...\n",
            "  [139  98  34]\n",
            "  [130  95  34]\n",
            "  [120  89  33]]\n",
            "\n",
            " ...\n",
            "\n",
            " [[ 68 124 177]\n",
            "  [ 42 100 148]\n",
            "  [ 31  88 137]\n",
            "  ...\n",
            "  [ 38  97 146]\n",
            "  [ 13  64 108]\n",
            "  [ 40  85 127]]\n",
            "\n",
            " [[ 61 116 168]\n",
            "  [ 49 102 148]\n",
            "  [ 35  85 132]\n",
            "  ...\n",
            "  [ 26  82 130]\n",
            "  [ 29  82 126]\n",
            "  [ 20  64 107]]\n",
            "\n",
            " [[ 54 107 160]\n",
            "  [ 56 105 149]\n",
            "  [ 45  89 132]\n",
            "  ...\n",
            "  [ 24  77 124]\n",
            "  [ 34  84 129]\n",
            "  [ 21  67 110]]]\n"
          ]
        }
      ],
      "source": [
        "print(x_train[0])\n",
        "print(x_test[0])"
      ]
    },
    {
      "cell_type": "code",
      "execution_count": null,
      "metadata": {
        "id": "B7Iv1bi4Asvm"
      },
      "outputs": [],
      "source": [
        "#Normalization\n",
        "x_train = x_train/255\n",
        "x_test = x_test/255"
      ]
    },
    {
      "cell_type": "code",
      "execution_count": null,
      "metadata": {
        "colab": {
          "base_uri": "https://localhost:8080/"
        },
        "id": "smKz66D8BNed",
        "outputId": "c2822622-d886-4f22-a53c-b5698912d02d"
      },
      "outputs": [
        {
          "name": "stdout",
          "output_type": "stream",
          "text": [
            "[[[0.23137255 0.24313725 0.24705882]\n",
            "  [0.16862745 0.18039216 0.17647059]\n",
            "  [0.19607843 0.18823529 0.16862745]\n",
            "  ...\n",
            "  [0.61960784 0.51764706 0.42352941]\n",
            "  [0.59607843 0.49019608 0.4       ]\n",
            "  [0.58039216 0.48627451 0.40392157]]\n",
            "\n",
            " [[0.0627451  0.07843137 0.07843137]\n",
            "  [0.         0.         0.        ]\n",
            "  [0.07058824 0.03137255 0.        ]\n",
            "  ...\n",
            "  [0.48235294 0.34509804 0.21568627]\n",
            "  [0.46666667 0.3254902  0.19607843]\n",
            "  [0.47843137 0.34117647 0.22352941]]\n",
            "\n",
            " [[0.09803922 0.09411765 0.08235294]\n",
            "  [0.0627451  0.02745098 0.        ]\n",
            "  [0.19215686 0.10588235 0.03137255]\n",
            "  ...\n",
            "  [0.4627451  0.32941176 0.19607843]\n",
            "  [0.47058824 0.32941176 0.19607843]\n",
            "  [0.42745098 0.28627451 0.16470588]]\n",
            "\n",
            " ...\n",
            "\n",
            " [[0.81568627 0.66666667 0.37647059]\n",
            "  [0.78823529 0.6        0.13333333]\n",
            "  [0.77647059 0.63137255 0.10196078]\n",
            "  ...\n",
            "  [0.62745098 0.52156863 0.2745098 ]\n",
            "  [0.21960784 0.12156863 0.02745098]\n",
            "  [0.20784314 0.13333333 0.07843137]]\n",
            "\n",
            " [[0.70588235 0.54509804 0.37647059]\n",
            "  [0.67843137 0.48235294 0.16470588]\n",
            "  [0.72941176 0.56470588 0.11764706]\n",
            "  ...\n",
            "  [0.72156863 0.58039216 0.36862745]\n",
            "  [0.38039216 0.24313725 0.13333333]\n",
            "  [0.3254902  0.20784314 0.13333333]]\n",
            "\n",
            " [[0.69411765 0.56470588 0.45490196]\n",
            "  [0.65882353 0.50588235 0.36862745]\n",
            "  [0.70196078 0.55686275 0.34117647]\n",
            "  ...\n",
            "  [0.84705882 0.72156863 0.54901961]\n",
            "  [0.59215686 0.4627451  0.32941176]\n",
            "  [0.48235294 0.36078431 0.28235294]]]\n",
            "[[[0.61960784 0.43921569 0.19215686]\n",
            "  [0.62352941 0.43529412 0.18431373]\n",
            "  [0.64705882 0.45490196 0.2       ]\n",
            "  ...\n",
            "  [0.5372549  0.37254902 0.14117647]\n",
            "  [0.49411765 0.35686275 0.14117647]\n",
            "  [0.45490196 0.33333333 0.12941176]]\n",
            "\n",
            " [[0.59607843 0.43921569 0.2       ]\n",
            "  [0.59215686 0.43137255 0.15686275]\n",
            "  [0.62352941 0.44705882 0.17647059]\n",
            "  ...\n",
            "  [0.53333333 0.37254902 0.12156863]\n",
            "  [0.49019608 0.35686275 0.1254902 ]\n",
            "  [0.46666667 0.34509804 0.13333333]]\n",
            "\n",
            " [[0.59215686 0.43137255 0.18431373]\n",
            "  [0.59215686 0.42745098 0.12941176]\n",
            "  [0.61960784 0.43529412 0.14117647]\n",
            "  ...\n",
            "  [0.54509804 0.38431373 0.13333333]\n",
            "  [0.50980392 0.37254902 0.13333333]\n",
            "  [0.47058824 0.34901961 0.12941176]]\n",
            "\n",
            " ...\n",
            "\n",
            " [[0.26666667 0.48627451 0.69411765]\n",
            "  [0.16470588 0.39215686 0.58039216]\n",
            "  [0.12156863 0.34509804 0.5372549 ]\n",
            "  ...\n",
            "  [0.14901961 0.38039216 0.57254902]\n",
            "  [0.05098039 0.25098039 0.42352941]\n",
            "  [0.15686275 0.33333333 0.49803922]]\n",
            "\n",
            " [[0.23921569 0.45490196 0.65882353]\n",
            "  [0.19215686 0.4        0.58039216]\n",
            "  [0.1372549  0.33333333 0.51764706]\n",
            "  ...\n",
            "  [0.10196078 0.32156863 0.50980392]\n",
            "  [0.11372549 0.32156863 0.49411765]\n",
            "  [0.07843137 0.25098039 0.41960784]]\n",
            "\n",
            " [[0.21176471 0.41960784 0.62745098]\n",
            "  [0.21960784 0.41176471 0.58431373]\n",
            "  [0.17647059 0.34901961 0.51764706]\n",
            "  ...\n",
            "  [0.09411765 0.30196078 0.48627451]\n",
            "  [0.13333333 0.32941176 0.50588235]\n",
            "  [0.08235294 0.2627451  0.43137255]]]\n"
          ]
        }
      ],
      "source": [
        "print(x_train[0])\n",
        "print(x_test[0])"
      ]
    },
    {
      "cell_type": "code",
      "execution_count": null,
      "metadata": {
        "colab": {
          "base_uri": "https://localhost:8080/"
        },
        "id": "DLqdEShSURX8",
        "outputId": "4f648c2b-6745-4b5f-e7b9-1cf8da24b83d"
      },
      "outputs": [
        {
          "name": "stdout",
          "output_type": "stream",
          "text": [
            "[[6]\n",
            " [9]\n",
            " [9]\n",
            " [4]\n",
            " [1]]\n"
          ]
        },
        {
          "data": {
            "text/plain": [
              "(50000, 1)"
            ]
          },
          "execution_count": 9,
          "metadata": {},
          "output_type": "execute_result"
        }
      ],
      "source": [
        "print(y_train[:5])\n",
        "y_train.shape"
      ]
    },
    {
      "cell_type": "code",
      "execution_count": null,
      "metadata": {
        "colab": {
          "base_uri": "https://localhost:8080/",
          "height": 297
        },
        "id": "J-mstWx0BaMa",
        "outputId": "a64a1c2b-0bf3-4e09-a5b3-c734d685aa30"
      },
      "outputs": [
        {
          "data": {
            "text/plain": [
              "Text(0.5, 0, '[6]')"
            ]
          },
          "execution_count": 10,
          "metadata": {},
          "output_type": "execute_result"
        },
        {
          "data": {
            "image/png": "[encoded data removed]",
            "text/plain": [
              "<Figure size 432x288 with 1 Axes>"
            ]
          },
          "metadata": {
            "needs_background": "light"
          },
          "output_type": "display_data"
        }
      ],
      "source": [
        "plt.imshow(x_train[0])\n",
        "plt.xlabel(y_train[0])"
      ]
    },
    {
      "cell_type": "code",
      "execution_count": null,
      "metadata": {
        "id": "6CibcSwfSLSt"
      },
      "outputs": [],
      "source": [
        "from tensorflow import keras\n",
        "from tensorflow.keras import layers\n",
        "\n",
        "inputs = keras.Input(shape=(32,32,3))\n",
        "x = layers.Conv2D(filters=16, kernel_size=3, activation=\"relu\")(inputs)\n",
        "x = layers.Conv2D(filters=32, kernel_size=3, activation=\"relu\")(x)\n",
        "x = layers.MaxPooling2D(pool_size=2)(x)\n",
        "x = layers.Conv2D(filters=64, kernel_size=3, activation=\"relu\")(x)\n",
        "x = layers.Conv2D(filters=128, kernel_size=3, activation=\"relu\")(x)\n",
        "x = layers.MaxPooling2D(pool_size=2)(x)\n",
        "x = layers.Flatten()(x)\n",
        "outputs = layers.Dense(10, activation=\"softmax\")(x)\n",
        "cnn = keras.Model(inputs=inputs, outputs=outputs)"
      ]
    },
    {
      "cell_type": "code",
      "execution_count": null,
      "metadata": {
        "colab": {
          "base_uri": "https://localhost:8080/"
        },
        "id": "KeUh5N8bdovV",
        "outputId": "e9144047-8c37-449e-91a3-70440e196e7b"
      },
      "outputs": [
        {
          "name": "stdout",
          "output_type": "stream",
          "text": [
            "Model: \"model_10\"\n",
            "_________________________________________________________________\n",
            " Layer (type)                Output Shape              Param #   \n",
            "=================================================================\n",
            " input_12 (InputLayer)       [(None, 32, 32, 3)]       0         \n",
            "                                                                 \n",
            " conv2d_40 (Conv2D)          (None, 30, 30, 16)        448       \n",
            "                                                                 \n",
            " conv2d_41 (Conv2D)          (None, 28, 28, 32)        4640      \n",
            "                                                                 \n",
            " max_pooling2d_20 (MaxPoolin  (None, 14, 14, 32)       0         \n",
            " g2D)                                                            \n",
            "                                                                 \n",
            " conv2d_42 (Conv2D)          (None, 12, 12, 64)        18496     \n",
            "                                                                 \n",
            " conv2d_43 (Conv2D)          (None, 10, 10, 128)       73856     \n",
            "                                                                 \n",
            " max_pooling2d_21 (MaxPoolin  (None, 5, 5, 128)        0         \n",
            " g2D)                                                            \n",
            "                                                                 \n",
            " flatten_10 (Flatten)        (None, 3200)              0         \n",
            "                                                                 \n",
            " dense_10 (Dense)            (None, 10)                32010     \n",
            "                                                                 \n",
            "=================================================================\n",
            "Total params: 129,450\n",
            "Trainable params: 129,450\n",
            "Non-trainable params: 0\n",
            "_________________________________________________________________\n"
          ]
        }
      ],
      "source": [
        "cnn.summary()"
      ]
    },
    {
      "cell_type": "code",
      "execution_count": null,
      "metadata": {
        "id": "tix2qFGddsYy"
      },
      "outputs": [],
      "source": [
        "cnn.compile(optimizer='adam',\n",
        "               loss='sparse_categorical_crossentropy',\n",
        "               metrics=['accuracy'])"
      ]
    },
    {
      "cell_type": "code",
      "execution_count": null,
      "metadata": {
        "colab": {
          "base_uri": "https://localhost:8080/"
        },
        "id": "g9LTaMt9ea17",
        "outputId": "0d225d50-85da-4324-f2ae-7cdeb7266098"
      },
      "outputs": [
        {
          "name": "stdout",
          "output_type": "stream",
          "text": [
            "Epoch 1/50\n",
            "88/88 [==============================] - 3s 30ms/step - loss: 1.8485 - accuracy: 0.3274 - val_loss: 1.5345 - val_accuracy: 0.4490\n",
            "Epoch 2/50\n",
            "88/88 [==============================] - 2s 27ms/step - loss: 1.4654 - accuracy: 0.4745 - val_loss: 1.3533 - val_accuracy: 0.5226\n",
            "Epoch 3/50\n",
            "88/88 [==============================] - 2s 27ms/step - loss: 1.3362 - accuracy: 0.5254 - val_loss: 1.3070 - val_accuracy: 0.5314\n",
            "Epoch 4/50\n",
            "88/88 [==============================] - 3s 31ms/step - loss: 1.2683 - accuracy: 0.5532 - val_loss: 1.2082 - val_accuracy: 0.5730\n",
            "Epoch 5/50\n",
            "88/88 [==============================] - 2s 27ms/step - loss: 1.1826 - accuracy: 0.5854 - val_loss: 1.1233 - val_accuracy: 0.6040\n",
            "Epoch 6/50\n",
            "88/88 [==============================] - 3s 29ms/step - loss: 1.1362 - accuracy: 0.6038 - val_loss: 1.1467 - val_accuracy: 0.6038\n",
            "Epoch 7/50\n",
            "88/88 [==============================] - 2s 28ms/step - loss: 1.0637 - accuracy: 0.6283 - val_loss: 1.0308 - val_accuracy: 0.6414\n",
            "Epoch 8/50\n",
            "88/88 [==============================] - 2s 28ms/step - loss: 1.0156 - accuracy: 0.6481 - val_loss: 0.9998 - val_accuracy: 0.6550\n",
            "Epoch 9/50\n",
            "88/88 [==============================] - 2s 27ms/step - loss: 0.9721 - accuracy: 0.6644 - val_loss: 0.9772 - val_accuracy: 0.6602\n",
            "Epoch 10/50\n",
            "88/88 [==============================] - 2s 28ms/step - loss: 0.9510 - accuracy: 0.6707 - val_loss: 0.9466 - val_accuracy: 0.6818\n",
            "Epoch 11/50\n",
            "88/88 [==============================] - 3s 31ms/step - loss: 0.8967 - accuracy: 0.6910 - val_loss: 0.9419 - val_accuracy: 0.6810\n",
            "Epoch 12/50\n",
            "88/88 [==============================] - 3s 30ms/step - loss: 0.8734 - accuracy: 0.6982 - val_loss: 0.9083 - val_accuracy: 0.6912\n",
            "Epoch 13/50\n",
            "88/88 [==============================] - 3s 29ms/step - loss: 0.8352 - accuracy: 0.7126 - val_loss: 0.8721 - val_accuracy: 0.7042\n",
            "Epoch 14/50\n",
            "88/88 [==============================] - 2s 28ms/step - loss: 0.8247 - accuracy: 0.7186 - val_loss: 0.8678 - val_accuracy: 0.7068\n",
            "Epoch 15/50\n",
            "88/88 [==============================] - 2s 27ms/step - loss: 0.7867 - accuracy: 0.7303 - val_loss: 0.8787 - val_accuracy: 0.7064\n",
            "Epoch 16/50\n",
            "88/88 [==============================] - 2s 27ms/step - loss: 0.7634 - accuracy: 0.7366 - val_loss: 0.8248 - val_accuracy: 0.7268\n",
            "Epoch 17/50\n",
            "88/88 [==============================] - 2s 27ms/step - loss: 0.7432 - accuracy: 0.7436 - val_loss: 0.8137 - val_accuracy: 0.7256\n",
            "Epoch 18/50\n",
            "88/88 [==============================] - 2s 27ms/step - loss: 0.7204 - accuracy: 0.7526 - val_loss: 0.8179 - val_accuracy: 0.7198\n",
            "Epoch 19/50\n",
            "88/88 [==============================] - 2s 27ms/step - loss: 0.6927 - accuracy: 0.7627 - val_loss: 0.7987 - val_accuracy: 0.7286\n",
            "Epoch 20/50\n",
            "88/88 [==============================] - 2s 27ms/step - loss: 0.6778 - accuracy: 0.7683 - val_loss: 0.8013 - val_accuracy: 0.7306\n",
            "Epoch 21/50\n",
            "88/88 [==============================] - 3s 31ms/step - loss: 0.6722 - accuracy: 0.7704 - val_loss: 0.8110 - val_accuracy: 0.7300\n",
            "Epoch 22/50\n",
            "88/88 [==============================] - 3s 29ms/step - loss: 0.6427 - accuracy: 0.7809 - val_loss: 0.7747 - val_accuracy: 0.7330\n",
            "Epoch 23/50\n",
            "88/88 [==============================] - 2s 27ms/step - loss: 0.6215 - accuracy: 0.7880 - val_loss: 0.7757 - val_accuracy: 0.7408\n",
            "Epoch 24/50\n",
            "88/88 [==============================] - 2s 28ms/step - loss: 0.6010 - accuracy: 0.7939 - val_loss: 0.7828 - val_accuracy: 0.7316\n",
            "Epoch 25/50\n",
            "88/88 [==============================] - 2s 27ms/step - loss: 0.5910 - accuracy: 0.7993 - val_loss: 0.7679 - val_accuracy: 0.7400\n",
            "Epoch 26/50\n",
            "88/88 [==============================] - 2s 27ms/step - loss: 0.5819 - accuracy: 0.8020 - val_loss: 0.7652 - val_accuracy: 0.7466\n",
            "Epoch 27/50\n",
            "88/88 [==============================] - 2s 27ms/step - loss: 0.5508 - accuracy: 0.8132 - val_loss: 0.7813 - val_accuracy: 0.7398\n",
            "Epoch 28/50\n",
            "88/88 [==============================] - 2s 27ms/step - loss: 0.5388 - accuracy: 0.8174 - val_loss: 0.8064 - val_accuracy: 0.7324\n",
            "Epoch 29/50\n",
            "88/88 [==============================] - 2s 27ms/step - loss: 0.5287 - accuracy: 0.8199 - val_loss: 0.7856 - val_accuracy: 0.7424\n",
            "Epoch 30/50\n",
            "88/88 [==============================] - 2s 27ms/step - loss: 0.5255 - accuracy: 0.8207 - val_loss: 0.7745 - val_accuracy: 0.7418\n",
            "Epoch 31/50\n",
            "88/88 [==============================] - 2s 27ms/step - loss: 0.5015 - accuracy: 0.8297 - val_loss: 0.7922 - val_accuracy: 0.7414\n",
            "Epoch 32/50\n",
            "88/88 [==============================] - 2s 27ms/step - loss: 0.4924 - accuracy: 0.8312 - val_loss: 0.7864 - val_accuracy: 0.7460\n",
            "Epoch 33/50\n",
            "88/88 [==============================] - 2s 28ms/step - loss: 0.4742 - accuracy: 0.8393 - val_loss: 0.7964 - val_accuracy: 0.7444\n",
            "Epoch 34/50\n",
            "88/88 [==============================] - 2s 27ms/step - loss: 0.4719 - accuracy: 0.8383 - val_loss: 0.7740 - val_accuracy: 0.7466\n",
            "Epoch 35/50\n",
            "88/88 [==============================] - 2s 27ms/step - loss: 0.4535 - accuracy: 0.8443 - val_loss: 0.8336 - val_accuracy: 0.7374\n",
            "Epoch 36/50\n",
            "88/88 [==============================] - 2s 27ms/step - loss: 0.4439 - accuracy: 0.8487 - val_loss: 0.7987 - val_accuracy: 0.7450\n",
            "Epoch 37/50\n",
            "88/88 [==============================] - 2s 27ms/step - loss: 0.4229 - accuracy: 0.8561 - val_loss: 0.7947 - val_accuracy: 0.7464\n",
            "Epoch 38/50\n",
            "88/88 [==============================] - 2s 27ms/step - loss: 0.4154 - accuracy: 0.8587 - val_loss: 0.8313 - val_accuracy: 0.7396\n",
            "Epoch 39/50\n",
            "88/88 [==============================] - 2s 27ms/step - loss: 0.4044 - accuracy: 0.8616 - val_loss: 0.8212 - val_accuracy: 0.7424\n",
            "Epoch 40/50\n",
            "88/88 [==============================] - 2s 27ms/step - loss: 0.3902 - accuracy: 0.8676 - val_loss: 0.8784 - val_accuracy: 0.7362\n",
            "Epoch 41/50\n",
            "88/88 [==============================] - 2s 27ms/step - loss: 0.3774 - accuracy: 0.8706 - val_loss: 0.8370 - val_accuracy: 0.7458\n",
            "Epoch 42/50\n",
            "88/88 [==============================] - 2s 27ms/step - loss: 0.3600 - accuracy: 0.8775 - val_loss: 0.8660 - val_accuracy: 0.7430\n",
            "Epoch 43/50\n",
            "88/88 [==============================] - 2s 27ms/step - loss: 0.3585 - accuracy: 0.8766 - val_loss: 0.8679 - val_accuracy: 0.7438\n",
            "Epoch 44/50\n",
            "88/88 [==============================] - 2s 27ms/step - loss: 0.3390 - accuracy: 0.8869 - val_loss: 0.8854 - val_accuracy: 0.7432\n",
            "Epoch 45/50\n",
            "88/88 [==============================] - 2s 27ms/step - loss: 0.3248 - accuracy: 0.8894 - val_loss: 0.9187 - val_accuracy: 0.7416\n",
            "Epoch 46/50\n",
            "88/88 [==============================] - 2s 27ms/step - loss: 0.3189 - accuracy: 0.8913 - val_loss: 0.8915 - val_accuracy: 0.7394\n",
            "Epoch 47/50\n",
            "88/88 [==============================] - 2s 27ms/step - loss: 0.3027 - accuracy: 0.8987 - val_loss: 0.9519 - val_accuracy: 0.7380\n",
            "Epoch 48/50\n",
            "88/88 [==============================] - 2s 27ms/step - loss: 0.2946 - accuracy: 0.9005 - val_loss: 0.9395 - val_accuracy: 0.7372\n",
            "Epoch 49/50\n",
            "88/88 [==============================] - 2s 27ms/step - loss: 0.2873 - accuracy: 0.9025 - val_loss: 0.9340 - val_accuracy: 0.7396\n",
            "Epoch 50/50\n",
            "88/88 [==============================] - 2s 27ms/step - loss: 0.2818 - accuracy: 0.9034 - val_loss: 0.9641 - val_accuracy: 0.7312\n"
          ]
        }
      ],
      "source": [
        "history = cnn.fit(x_train, y_train, batch_size=512, epochs=50, validation_split=0.1)\n",
        "#Observations:\n",
        "\n",
        "# File \"/usr/local/lib/python3.7/dist-packages/keras/backend.py\", line 5119, in categorical_crossentropy\n",
        "     #   target.shape.assert_is_compatible_with(output.shape)\n",
        "\n",
        "  #  ValueError: Shapes (None, 1) and (None, 10) are incompatible\n",
        "\n",
        "#  This error has to be solved by changing categorical_crossentropy into sparse_categorical_crossentropy because \n",
        "#  I just realized that by using y_train.shape labels aren't (one-hot) vectors but numbers \n",
        "\n",
        "#  Softmax is ideal here \n",
        "\n",
        "# One of the Error was that I was giving Validation split = 10 rather than 0.1\n",
        "\n",
        "#  Model was fitting however showing loss: 0.0000e+00 and accuracy: 0.1003 at every epoch because of single output neuron and the \n",
        "#  categorical_crossentropy loss function\n",
        "#  Imagine having 100 individual items of 10 classes and classifying all of them as class 1 items and getting 10% accuracy due to the above anomaly"
      ]
    },
    {
      "cell_type": "code",
      "execution_count": null,
      "metadata": {
        "colab": {
          "base_uri": "https://localhost:8080/"
        },
        "id": "QjTDdio5gsiV",
        "outputId": "e0cd18f8-a647-4dd5-da8c-2ae5ad220024"
      },
      "outputs": [
        {
          "name": "stdout",
          "output_type": "stream",
          "text": [
            "313/313 [==============================] - 1s 3ms/step - loss: 1.0119 - accuracy: 0.7260\n"
          ]
        },
        {
          "data": {
            "text/plain": [
              "0.7260000109672546"
            ]
          },
          "execution_count": 75,
          "metadata": {},
          "output_type": "execute_result"
        }
      ],
      "source": [
        "test_loss, test_acc = cnn.evaluate(x_test, y_test)\n",
        "# Supposed to pass both data+labels not just x_test\n",
        "test_acc"
      ]
    },
    {
      "cell_type": "code",
      "execution_count": null,
      "metadata": {
        "colab": {
          "base_uri": "https://localhost:8080/",
          "height": 545
        },
        "id": "_CaModxfe_EZ",
        "outputId": "3eea4422-f6f9-41b5-f6d4-b2799487b312"
      },
      "outputs": [
        {
          "data": {
            "image/png": "[encoded data removed]",
            "text/plain": [
              "<Figure size 432x288 with 1 Axes>"
            ]
          },
          "metadata": {
            "needs_background": "light"
          },
          "output_type": "display_data"
        },
        {
          "data": {
            "image/png": "[encoded data removed]",
            "text/plain": [
              "<Figure size 432x288 with 1 Axes>"
            ]
          },
          "metadata": {
            "needs_background": "light"
          },
          "output_type": "display_data"
        }
      ],
      "source": [
        "import matplotlib.pyplot as plt\n",
        "accuracy = history.history[\"accuracy\"]\n",
        "val_accuracy = history.history[\"val_accuracy\"]\n",
        "loss = history.history[\"loss\"]\n",
        "val_loss = history.history[\"val_loss\"]\n",
        "epochs = range(1, len(accuracy) + 1)\n",
        "plt.plot(epochs, accuracy, \"bo\", label=\"Training accuracy\")\n",
        "plt.plot(epochs, val_accuracy, \"b\", label=\"Validation accuracy\")\n",
        "plt.title(\"Training and validation accuracy\")\n",
        "plt.legend()\n",
        "plt.figure()\n",
        "plt.plot(epochs, loss, \"bo\", label=\"Training loss\")\n",
        "plt.plot(epochs, val_loss, \"b\", label=\"Validation loss\")\n",
        "plt.title(\"Training and validation loss\")\n",
        "plt.legend()\n",
        "plt.show()"
      ]
    },
    {
      "cell_type": "code",
      "execution_count": null,
      "metadata": {
        "colab": {
          "base_uri": "https://localhost:8080/"
        },
        "id": "xXwpmwk_jJ1f",
        "outputId": "dedaa9e2-8ccc-43f9-9e47-21cd8128187d"
      },
      "outputs": [
        {
          "name": "stdout",
          "output_type": "stream",
          "text": [
            "Looking in indexes: https://pypi.org/simple, https://us-python.pkg.dev/colab-wheels/public/simple/\n",
            "Requirement already satisfied: h5py in /usr/local/lib/python3.7/dist-packages (3.1.0)\n",
            "Requirement already satisfied: numpy>=1.14.5 in /usr/local/lib/python3.7/dist-packages (from h5py) (1.21.6)\n",
            "Requirement already satisfied: cached-property in /usr/local/lib/python3.7/dist-packages (from h5py) (1.5.2)\n"
          ]
        }
      ],
      "source": [
        "!pip install h5py"
      ]
    },
    {
      "cell_type": "code",
      "execution_count": null,
      "metadata": {
        "colab": {
          "base_uri": "https://localhost:8080/"
        },
        "id": "z3tbwbenjP05",
        "outputId": "b4abb952-1b01-41d1-c60b-cae5fb823288"
      },
      "outputs": [
        {
          "name": "stdout",
          "output_type": "stream",
          "text": [
            "Mounted at /content/drive\n"
          ]
        }
      ],
      "source": [
        "from google.colab import drive\n",
        "drive.mount(\"/content/drive\")"
      ]
    },
    {
      "cell_type": "code",
      "execution_count": null,
      "metadata": {
        "colab": {
          "base_uri": "https://localhost:8080/"
        },
        "id": "rp_DpXJ_klyf",
        "outputId": "6dca6304-9dba-40dd-c743-92600faf8c59"
      },
      "outputs": [
        {
          "name": "stdout",
          "output_type": "stream",
          "text": [
            "Saved model to disk\n"
          ]
        }
      ],
      "source": [
        "# serialize model to JSON\n",
        "model_json = cnn.to_json()\n",
        "with open(\"/content/drive/MyDrive/Models/model.json\", \"w\") as json_file:\n",
        "    json_file.write(model_json)\n",
        "# serialize weights to HDF5\n",
        "cnn.save_weights(\"/content/drive/MyDrive/Models/model.h5\")\n",
        "print(\"Saved model to disk\")\n",
        " \n",
        "# later...\n",
        " \n",
        "# load json and create model\n",
        "#json_file = open('model.json', 'r')\n",
        "#loaded_model_json = json_file.read()\n",
        "#json_file.close()\n",
        "#loaded_model = model_from_json(loaded_model_json)\n",
        "# load weights into new model\n",
        "#loaded_model.load_weights(\"model.h5\")\n",
        "#print(\"Loaded model from disk\")"
      ]
    },
    {
      "cell_type": "code",
      "execution_count": null,
      "metadata": {
        "id": "IrquRw_GQ2wG"
      },
      "outputs": [],
      "source": [
        "#Overcoming Overfitting using lesser no. of Epochs defining same model\n",
        "from tensorflow import keras\n",
        "from tensorflow.keras import layers\n",
        "\n",
        "inputs = keras.Input(shape=(32,32,3))\n",
        "x = layers.Conv2D(filters=16, kernel_size=3, activation=\"relu\")(inputs)\n",
        "x = layers.Conv2D(filters=32, kernel_size=3, activation=\"relu\")(x)\n",
        "x = layers.MaxPooling2D(pool_size=2)(x)\n",
        "x = layers.Conv2D(filters=64, kernel_size=3, activation=\"relu\")(x)\n",
        "x = layers.Conv2D(filters=128, kernel_size=3, activation=\"relu\")(x)\n",
        "x = layers.MaxPooling2D(pool_size=2)(x)\n",
        "x = layers.Flatten()(x)\n",
        "outputs = layers.Dense(10, activation=\"softmax\")(x)\n",
        "cnn2 = keras.Model(inputs=inputs, outputs=outputs)\n"
      ]
    },
    {
      "cell_type": "code",
      "execution_count": null,
      "metadata": {
        "colab": {
          "base_uri": "https://localhost:8080/"
        },
        "id": "RSw5gQT2SRBn",
        "outputId": "008f1479-d276-45dc-b0ff-de270311677a"
      },
      "outputs": [
        {
          "name": "stdout",
          "output_type": "stream",
          "text": [
            "Model: \"model\"\n",
            "_________________________________________________________________\n",
            " Layer (type)                Output Shape              Param #   \n",
            "=================================================================\n",
            " input_1 (InputLayer)        [(None, 32, 32, 3)]       0         \n",
            "                                                                 \n",
            " conv2d (Conv2D)             (None, 30, 30, 16)        448       \n",
            "                                                                 \n",
            " conv2d_1 (Conv2D)           (None, 28, 28, 32)        4640      \n",
            "                                                                 \n",
            " max_pooling2d (MaxPooling2D  (None, 14, 14, 32)       0         \n",
            " )                                                               \n",
            "                                                                 \n",
            " conv2d_2 (Conv2D)           (None, 12, 12, 64)        18496     \n",
            "                                                                 \n",
            " conv2d_3 (Conv2D)           (None, 10, 10, 128)       73856     \n",
            "                                                                 \n",
            " max_pooling2d_1 (MaxPooling  (None, 5, 5, 128)        0         \n",
            " 2D)                                                             \n",
            "                                                                 \n",
            " flatten (Flatten)           (None, 3200)              0         \n",
            "                                                                 \n",
            " dense (Dense)               (None, 10)                32010     \n",
            "                                                                 \n",
            "=================================================================\n",
            "Total params: 129,450\n",
            "Trainable params: 129,450\n",
            "Non-trainable params: 0\n",
            "_________________________________________________________________\n"
          ]
        }
      ],
      "source": [
        "cnn2.summary()"
      ]
    },
    {
      "cell_type": "code",
      "execution_count": null,
      "metadata": {
        "id": "XUvjHWpQSoVr"
      },
      "outputs": [],
      "source": [
        "cnn2.compile(optimizer='adam',\n",
        "               loss='sparse_categorical_crossentropy',\n",
        "               metrics=['accuracy'])"
      ]
    },
    {
      "cell_type": "code",
      "execution_count": null,
      "metadata": {
        "colab": {
          "base_uri": "https://localhost:8080/"
        },
        "id": "dEv9VNHjTSng",
        "outputId": "01ce3e1c-a757-4952-9152-1ed6a532d286"
      },
      "outputs": [
        {
          "name": "stdout",
          "output_type": "stream",
          "text": [
            "Epoch 1/14\n",
            "88/88 [==============================] - 11s 36ms/step - loss: 1.7825 - accuracy: 0.3578 - val_loss: 1.5035 - val_accuracy: 0.4544\n",
            "Epoch 2/14\n",
            "88/88 [==============================] - 2s 27ms/step - loss: 1.4317 - accuracy: 0.4863 - val_loss: 1.3651 - val_accuracy: 0.5070\n",
            "Epoch 3/14\n",
            "88/88 [==============================] - 2s 27ms/step - loss: 1.3009 - accuracy: 0.5389 - val_loss: 1.2206 - val_accuracy: 0.5640\n",
            "Epoch 4/14\n",
            "88/88 [==============================] - 3s 34ms/step - loss: 1.2044 - accuracy: 0.5759 - val_loss: 1.1766 - val_accuracy: 0.5914\n",
            "Epoch 5/14\n",
            "88/88 [==============================] - 3s 36ms/step - loss: 1.1326 - accuracy: 0.6026 - val_loss: 1.1127 - val_accuracy: 0.6038\n",
            "Epoch 6/14\n",
            "88/88 [==============================] - 3s 37ms/step - loss: 1.0599 - accuracy: 0.6333 - val_loss: 1.0686 - val_accuracy: 0.6252\n",
            "Epoch 7/14\n",
            "88/88 [==============================] - 3s 29ms/step - loss: 1.0028 - accuracy: 0.6527 - val_loss: 1.0164 - val_accuracy: 0.6448\n",
            "Epoch 8/14\n",
            "88/88 [==============================] - 2s 27ms/step - loss: 0.9678 - accuracy: 0.6651 - val_loss: 0.9852 - val_accuracy: 0.6594\n",
            "Epoch 9/14\n",
            "88/88 [==============================] - 2s 28ms/step - loss: 0.9230 - accuracy: 0.6823 - val_loss: 0.9380 - val_accuracy: 0.6796\n",
            "Epoch 10/14\n",
            "88/88 [==============================] - 2s 28ms/step - loss: 0.8881 - accuracy: 0.6955 - val_loss: 0.9164 - val_accuracy: 0.6820\n",
            "Epoch 11/14\n",
            "88/88 [==============================] - 2s 27ms/step - loss: 0.8589 - accuracy: 0.7060 - val_loss: 0.9046 - val_accuracy: 0.6964\n",
            "Epoch 12/14\n",
            "88/88 [==============================] - 2s 28ms/step - loss: 0.8358 - accuracy: 0.7122 - val_loss: 0.8663 - val_accuracy: 0.7002\n",
            "Epoch 13/14\n",
            "88/88 [==============================] - 2s 27ms/step - loss: 0.7864 - accuracy: 0.7319 - val_loss: 0.8478 - val_accuracy: 0.7160\n",
            "Epoch 14/14\n",
            "88/88 [==============================] - 2s 27ms/step - loss: 0.7634 - accuracy: 0.7392 - val_loss: 0.8311 - val_accuracy: 0.7150\n"
          ]
        }
      ],
      "source": [
        "history = cnn2.fit(x_train, y_train, batch_size=512, epochs=14, validation_split=0.1)"
      ]
    },
    {
      "cell_type": "code",
      "execution_count": null,
      "metadata": {
        "colab": {
          "base_uri": "https://localhost:8080/"
        },
        "id": "9LhjUkuuU2SJ",
        "outputId": "b92b1b21-9d4b-4019-d027-018b4386ea0b"
      },
      "outputs": [
        {
          "name": "stdout",
          "output_type": "stream",
          "text": [
            "313/313 [==============================] - 1s 3ms/step - loss: 0.8705 - accuracy: 0.7014\n"
          ]
        },
        {
          "data": {
            "text/plain": [
              "0.7013999819755554"
            ]
          },
          "execution_count": 16,
          "metadata": {},
          "output_type": "execute_result"
        }
      ],
      "source": [
        "test_loss, test_acc = cnn2.evaluate(x_test, y_test)\n",
        "# Supposed to pass both data+labels not just x_test\n",
        "test_acc"
      ]
    },
    {
      "cell_type": "code",
      "execution_count": null,
      "metadata": {
        "colab": {
          "base_uri": "https://localhost:8080/",
          "height": 545
        },
        "id": "P4NGAUE2U2dU",
        "outputId": "1eba78d4-2dce-4ff4-ee39-b53edb9495b2"
      },
      "outputs": [
        {
          "data": {
            "image/png": "[encoded data removed]",
            "text/plain": [
              "<Figure size 432x288 with 1 Axes>"
            ]
          },
          "metadata": {
            "needs_background": "light"
          },
          "output_type": "display_data"
        },
        {
          "data": {
            "image/png": "[encoded data removed]",
            "text/plain": [
              "<Figure size 432x288 with 1 Axes>"
            ]
          },
          "metadata": {
            "needs_background": "light"
          },
          "output_type": "display_data"
        }
      ],
      "source": [
        "import matplotlib.pyplot as plt\n",
        "accuracy = history.history[\"accuracy\"]\n",
        "val_accuracy = history.history[\"val_accuracy\"]\n",
        "loss = history.history[\"loss\"]\n",
        "val_loss = history.history[\"val_loss\"]\n",
        "epochs = range(1, len(accuracy) + 1)\n",
        "plt.plot(epochs, accuracy, \"bo\", label=\"Training accuracy\")\n",
        "plt.plot(epochs, val_accuracy, \"b\", label=\"Validation accuracy\")\n",
        "plt.title(\"Training and validation accuracy\")\n",
        "plt.legend()\n",
        "plt.figure()\n",
        "plt.plot(epochs, loss, \"bo\", label=\"Training loss\")\n",
        "plt.plot(epochs, val_loss, \"b\", label=\"Validation loss\")\n",
        "plt.title(\"Training and validation loss\")\n",
        "plt.legend()\n",
        "plt.show()"
      ]
    },
    {
      "cell_type": "code",
      "execution_count": null,
      "metadata": {
        "id": "b1GD_Am_mpc8"
      },
      "outputs": [],
      "source": [
        "#from tensorflow.keras.utils import image_dataset_from_directory\n",
        "#dir_main = \"/content/drive/MyDrive/Datasets (Machine Learning)/CIFAR-10-images-master\"\n",
        "#train_dataset = image_dataset_from_directory(\n",
        " #   dir_main +\"/train\",\n",
        " #   image_size=(32, 32),\n",
        " #   batch_size=256)\n",
        "\n",
        "#test_dataset = image_dataset_from_directory(\n",
        " #   dir_main +\"/test\",\n",
        " #   image_size=(32, 32),\n",
        " #   batch_size=256)"
      ]
    },
    {
      "cell_type": "code",
      "execution_count": null,
      "metadata": {
        "id": "WVsrYKdl2Ban"
      },
      "outputs": [],
      "source": [
        "(x_train, y_train), (x_test, y_test) = datasets.cifar10.load_data()\n",
        "#Normalization\n",
        "x_train = x_train/255\n",
        "x_test = x_test/255"
      ]
    },
    {
      "cell_type": "code",
      "execution_count": null,
      "metadata": {
        "colab": {
          "base_uri": "https://localhost:8080/"
        },
        "id": "OZCy_-E4tEzj",
        "outputId": "e3a6563a-e95a-4714-9ffb-818e505eea84"
      },
      "outputs": [
        {
          "name": "stdout",
          "output_type": "stream",
          "text": [
            "data batch shape: (256, 32, 32, 3)\n",
            "labels batch shape: (256,)\n"
          ]
        }
      ],
      "source": [
        "#for data_batch, labels_batch in train_dataset:\n",
        " #   print(\"data batch shape:\", data_batch.shape)\n",
        " #   print(\"labels batch shape:\", labels_batch.shape)\n",
        " #   break"
      ]
    },
    {
      "cell_type": "code",
      "execution_count": null,
      "metadata": {
        "id": "3eqB64MIWBp6"
      },
      "outputs": [],
      "source": [
        "#  Data Augmentation\n",
        "data_augmentation = keras.Sequential([\n",
        "   layers.RandomFlip(\"horizontal\"),\n",
        "   layers.RandomRotation(0.1),\n",
        "   layers.RandomZoom(0.2),\n",
        "   layers.RandomBrightness(0.4),\n",
        "   layers.RandomContrast(0.1)\n",
        " ])"
      ]
    },
    {
      "cell_type": "code",
      "execution_count": null,
      "metadata": {
        "id": "qXPWuVPVkXMC"
      },
      "outputs": [],
      "source": [
        "#plt.figure(figsize=(10, 10))\n",
        "#for images in train_dataset.take(1):\n",
        " #   for i in range(9):\n",
        "  #      augmented_images = data_augmentation(images)\n",
        "  #     ax = plt.subplot(3, 3, i + 1)\n",
        "  #      plt.imshow(augmented_images[8].numpy().astype(\"uint8\"))\n",
        "  #      plt.axis(\"off\")"
      ]
    },
    {
      "cell_type": "code",
      "execution_count": null,
      "metadata": {
        "colab": {
          "base_uri": "https://localhost:8080/",
          "height": 1000
        },
        "id": "2iK-VWsO2kLv",
        "outputId": "e05d5d66-92c2-4270-b9e8-d0a0e4097e7d"
      },
      "outputs": [
        {
          "name": "stderr",
          "output_type": "stream",
          "text": [
            "WARNING:tensorflow:Using a while_loop for converting RngReadAndSkip\n",
            "WARNING:tensorflow:Using a while_loop for converting Bitcast\n",
            "WARNING:tensorflow:Using a while_loop for converting Bitcast\n",
            "WARNING:tensorflow:Using a while_loop for converting StatelessRandomUniformV2\n",
            "WARNING:tensorflow:Using a while_loop for converting RngReadAndSkip\n",
            "WARNING:tensorflow:Using a while_loop for converting Bitcast\n",
            "WARNING:tensorflow:Using a while_loop for converting Bitcast\n",
            "WARNING:tensorflow:Using a while_loop for converting StatelessRandomUniformFullIntV2\n",
            "WARNING:tensorflow:Using a while_loop for converting StatelessRandomGetKeyCounter\n",
            "WARNING:tensorflow:Using a while_loop for converting StatelessRandomUniformV2\n",
            "WARNING:tensorflow:Using a while_loop for converting AdjustContrastv2\n",
            "WARNING:tensorflow:Using a while_loop for converting RngReadAndSkip\n",
            "WARNING:tensorflow:Using a while_loop for converting Bitcast\n",
            "WARNING:tensorflow:Using a while_loop for converting Bitcast\n",
            "WARNING:tensorflow:Using a while_loop for converting StatelessRandomUniformV2\n",
            "WARNING:tensorflow:Using a while_loop for converting RngReadAndSkip\n",
            "WARNING:tensorflow:Using a while_loop for converting Bitcast\n",
            "WARNING:tensorflow:Using a while_loop for converting Bitcast\n",
            "WARNING:tensorflow:Using a while_loop for converting StatelessRandomUniformFullIntV2\n",
            "WARNING:tensorflow:Using a while_loop for converting StatelessRandomGetKeyCounter\n",
            "WARNING:tensorflow:Using a while_loop for converting StatelessRandomUniformV2\n",
            "WARNING:tensorflow:Using a while_loop for converting AdjustContrastv2\n",
            "WARNING:tensorflow:Using a while_loop for converting RngReadAndSkip\n",
            "WARNING:tensorflow:Using a while_loop for converting Bitcast\n",
            "WARNING:tensorflow:Using a while_loop for converting Bitcast\n",
            "WARNING:tensorflow:Using a while_loop for converting StatelessRandomUniformV2\n",
            "WARNING:tensorflow:Using a while_loop for converting RngReadAndSkip\n",
            "WARNING:tensorflow:Using a while_loop for converting Bitcast\n",
            "WARNING:tensorflow:Using a while_loop for converting Bitcast\n",
            "WARNING:tensorflow:Using a while_loop for converting StatelessRandomUniformFullIntV2\n",
            "WARNING:tensorflow:Using a while_loop for converting StatelessRandomGetKeyCounter\n",
            "WARNING:tensorflow:Using a while_loop for converting StatelessRandomUniformV2\n",
            "WARNING:tensorflow:Using a while_loop for converting AdjustContrastv2\n",
            "WARNING:tensorflow:Using a while_loop for converting RngReadAndSkip\n",
            "WARNING:tensorflow:Using a while_loop for converting Bitcast\n",
            "WARNING:tensorflow:Using a while_loop for converting Bitcast\n",
            "WARNING:tensorflow:Using a while_loop for converting StatelessRandomUniformV2\n",
            "WARNING:tensorflow:Using a while_loop for converting RngReadAndSkip\n",
            "WARNING:tensorflow:Using a while_loop for converting Bitcast\n",
            "WARNING:tensorflow:Using a while_loop for converting Bitcast\n",
            "WARNING:tensorflow:Using a while_loop for converting StatelessRandomUniformFullIntV2\n",
            "WARNING:tensorflow:Using a while_loop for converting StatelessRandomGetKeyCounter\n",
            "WARNING:tensorflow:Using a while_loop for converting StatelessRandomUniformV2\n",
            "WARNING:tensorflow:Using a while_loop for converting AdjustContrastv2\n",
            "WARNING:tensorflow:Using a while_loop for converting RngReadAndSkip\n",
            "WARNING:tensorflow:Using a while_loop for converting Bitcast\n",
            "WARNING:tensorflow:Using a while_loop for converting Bitcast\n",
            "WARNING:tensorflow:Using a while_loop for converting StatelessRandomUniformV2\n",
            "WARNING:tensorflow:Using a while_loop for converting RngReadAndSkip\n",
            "WARNING:tensorflow:Using a while_loop for converting Bitcast\n",
            "WARNING:tensorflow:Using a while_loop for converting Bitcast\n",
            "WARNING:tensorflow:Using a while_loop for converting StatelessRandomUniformFullIntV2\n",
            "WARNING:tensorflow:Using a while_loop for converting StatelessRandomGetKeyCounter\n",
            "WARNING:tensorflow:Using a while_loop for converting StatelessRandomUniformV2\n",
            "WARNING:tensorflow:Using a while_loop for converting AdjustContrastv2\n",
            "WARNING:tensorflow:Using a while_loop for converting RngReadAndSkip\n",
            "WARNING:tensorflow:Using a while_loop for converting Bitcast\n",
            "WARNING:tensorflow:Using a while_loop for converting Bitcast\n",
            "WARNING:tensorflow:Using a while_loop for converting StatelessRandomUniformV2\n",
            "WARNING:tensorflow:Using a while_loop for converting RngReadAndSkip\n",
            "WARNING:tensorflow:Using a while_loop for converting Bitcast\n",
            "WARNING:tensorflow:Using a while_loop for converting Bitcast\n",
            "WARNING:tensorflow:Using a while_loop for converting StatelessRandomUniformFullIntV2\n",
            "WARNING:tensorflow:Using a while_loop for converting StatelessRandomGetKeyCounter\n",
            "WARNING:tensorflow:Using a while_loop for converting StatelessRandomUniformV2\n",
            "WARNING:tensorflow:Using a while_loop for converting AdjustContrastv2\n",
            "WARNING:tensorflow:Using a while_loop for converting RngReadAndSkip\n",
            "WARNING:tensorflow:Using a while_loop for converting Bitcast\n",
            "WARNING:tensorflow:Using a while_loop for converting Bitcast\n",
            "WARNING:tensorflow:Using a while_loop for converting StatelessRandomUniformV2\n",
            "WARNING:tensorflow:Using a while_loop for converting RngReadAndSkip\n",
            "WARNING:tensorflow:Using a while_loop for converting Bitcast\n",
            "WARNING:tensorflow:Using a while_loop for converting Bitcast\n",
            "WARNING:tensorflow:Using a while_loop for converting StatelessRandomUniformFullIntV2\n",
            "WARNING:tensorflow:Using a while_loop for converting StatelessRandomGetKeyCounter\n",
            "WARNING:tensorflow:Using a while_loop for converting StatelessRandomUniformV2\n",
            "WARNING:tensorflow:Using a while_loop for converting AdjustContrastv2\n",
            "WARNING:tensorflow:Using a while_loop for converting RngReadAndSkip\n",
            "WARNING:tensorflow:Using a while_loop for converting Bitcast\n",
            "WARNING:tensorflow:Using a while_loop for converting Bitcast\n",
            "WARNING:tensorflow:Using a while_loop for converting StatelessRandomUniformV2\n",
            "WARNING:tensorflow:Using a while_loop for converting RngReadAndSkip\n",
            "WARNING:tensorflow:Using a while_loop for converting Bitcast\n",
            "WARNING:tensorflow:Using a while_loop for converting Bitcast\n",
            "WARNING:tensorflow:Using a while_loop for converting StatelessRandomUniformFullIntV2\n",
            "WARNING:tensorflow:Using a while_loop for converting StatelessRandomGetKeyCounter\n",
            "WARNING:tensorflow:Using a while_loop for converting StatelessRandomUniformV2\n",
            "WARNING:tensorflow:Using a while_loop for converting AdjustContrastv2\n",
            "WARNING:tensorflow:Using a while_loop for converting RngReadAndSkip\n",
            "WARNING:tensorflow:Using a while_loop for converting Bitcast\n",
            "WARNING:tensorflow:Using a while_loop for converting Bitcast\n",
            "WARNING:tensorflow:Using a while_loop for converting StatelessRandomUniformV2\n",
            "WARNING:tensorflow:Using a while_loop for converting RngReadAndSkip\n",
            "WARNING:tensorflow:Using a while_loop for converting Bitcast\n",
            "WARNING:tensorflow:Using a while_loop for converting Bitcast\n",
            "WARNING:tensorflow:Using a while_loop for converting StatelessRandomUniformFullIntV2\n",
            "WARNING:tensorflow:Using a while_loop for converting StatelessRandomGetKeyCounter\n",
            "WARNING:tensorflow:Using a while_loop for converting StatelessRandomUniformV2\n",
            "WARNING:tensorflow:Using a while_loop for converting AdjustContrastv2\n"
          ]
        },
        {
          "data": {
            "image/png": "[encoded data removed]",
            "text/plain": [
              "<Figure size 432x288 with 9 Axes>"
            ]
          },
          "metadata": {
            "needs_background": "light"
          },
          "output_type": "display_data"
        }
      ],
      "source": [
        "for i in range(9):\n",
        "  augmented_images = data_augmentation(x_train[:9])\n",
        "  ax = plt.subplot(3, 3, i + 1)\n",
        "  plt.imshow(augmented_images[0].numpy().astype(\"uint8\"))\n",
        "  plt.axis(\"off\")"
      ]
    },
    {
      "cell_type": "code",
      "execution_count": null,
      "metadata": {
        "colab": {
          "base_uri": "https://localhost:8080/"
        },
        "id": "PQ6uJyPOrswb",
        "outputId": "4fe22e8a-1c9e-49a3-8d0d-662b113d72df"
      },
      "outputs": [
        {
          "name": "stderr",
          "output_type": "stream",
          "text": [
            "WARNING:tensorflow:Using a while_loop for converting RngReadAndSkip\n",
            "WARNING:tensorflow:Using a while_loop for converting Bitcast\n",
            "WARNING:tensorflow:Using a while_loop for converting Bitcast\n",
            "WARNING:tensorflow:Using a while_loop for converting StatelessRandomUniformV2\n",
            "WARNING:tensorflow:Using a while_loop for converting RngReadAndSkip\n",
            "WARNING:tensorflow:Using a while_loop for converting Bitcast\n",
            "WARNING:tensorflow:Using a while_loop for converting Bitcast\n",
            "WARNING:tensorflow:Using a while_loop for converting StatelessRandomUniformFullIntV2\n",
            "WARNING:tensorflow:Using a while_loop for converting StatelessRandomGetKeyCounter\n",
            "WARNING:tensorflow:Using a while_loop for converting StatelessRandomUniformV2\n",
            "WARNING:tensorflow:Using a while_loop for converting AdjustContrastv2\n",
            "WARNING:tensorflow:Using a while_loop for converting RngReadAndSkip\n",
            "WARNING:tensorflow:Using a while_loop for converting Bitcast\n",
            "WARNING:tensorflow:Using a while_loop for converting Bitcast\n",
            "WARNING:tensorflow:Using a while_loop for converting StatelessRandomUniformV2\n",
            "WARNING:tensorflow:Using a while_loop for converting RngReadAndSkip\n",
            "WARNING:tensorflow:Using a while_loop for converting Bitcast\n",
            "WARNING:tensorflow:Using a while_loop for converting Bitcast\n",
            "WARNING:tensorflow:Using a while_loop for converting StatelessRandomUniformFullIntV2\n",
            "WARNING:tensorflow:Using a while_loop for converting StatelessRandomGetKeyCounter\n",
            "WARNING:tensorflow:Using a while_loop for converting StatelessRandomUniformV2\n",
            "WARNING:tensorflow:Using a while_loop for converting AdjustContrastv2\n"
          ]
        }
      ],
      "source": [
        "\n",
        "from tensorflow import keras\n",
        "from tensorflow.keras import layers\n",
        "\n",
        "inputs = keras.Input(shape=(32,32,3))\n",
        "x = data_augmentation(inputs)                #Adding Augmentation Layer\n",
        "x = layers.Conv2D(filters=16, kernel_size=3, activation=\"relu\")(inputs)\n",
        "x = layers.Conv2D(filters=32, kernel_size=3, activation=\"relu\")(x)\n",
        "x = layers.MaxPooling2D(pool_size=2)(x)\n",
        "x = layers.Conv2D(filters=64, kernel_size=3, activation=\"relu\")(x)\n",
        "x = layers.Conv2D(filters=128, kernel_size=3, activation=\"relu\")(x)\n",
        "x = layers.MaxPooling2D(pool_size=2)(x)\n",
        "x = layers.Flatten()(x)\n",
        "outputs = layers.Dense(10, activation=\"softmax\")(x)\n",
        "cnn3 = keras.Model(inputs=inputs, outputs=outputs)"
      ]
    },
    {
      "cell_type": "code",
      "execution_count": null,
      "metadata": {
        "colab": {
          "base_uri": "https://localhost:8080/"
        },
        "id": "HD91yZVbsXhV",
        "outputId": "d08a543f-7d6b-4d7b-b8ad-66d4ec921412"
      },
      "outputs": [
        {
          "name": "stdout",
          "output_type": "stream",
          "text": [
            "Model: \"model_4\"\n",
            "_________________________________________________________________\n",
            " Layer (type)                Output Shape              Param #   \n",
            "=================================================================\n",
            " input_5 (InputLayer)        [(None, 32, 32, 3)]       0         \n",
            "                                                                 \n",
            " conv2d_16 (Conv2D)          (None, 30, 30, 16)        448       \n",
            "                                                                 \n",
            " conv2d_17 (Conv2D)          (None, 28, 28, 32)        4640      \n",
            "                                                                 \n",
            " max_pooling2d_8 (MaxPooling  (None, 14, 14, 32)       0         \n",
            " 2D)                                                             \n",
            "                                                                 \n",
            " conv2d_18 (Conv2D)          (None, 12, 12, 64)        18496     \n",
            "                                                                 \n",
            " conv2d_19 (Conv2D)          (None, 10, 10, 128)       73856     \n",
            "                                                                 \n",
            " max_pooling2d_9 (MaxPooling  (None, 5, 5, 128)        0         \n",
            " 2D)                                                             \n",
            "                                                                 \n",
            " flatten_4 (Flatten)         (None, 3200)              0         \n",
            "                                                                 \n",
            " dense_4 (Dense)             (None, 10)                32010     \n",
            "                                                                 \n",
            "=================================================================\n",
            "Total params: 129,450\n",
            "Trainable params: 129,450\n",
            "Non-trainable params: 0\n",
            "_________________________________________________________________\n"
          ]
        }
      ],
      "source": [
        "cnn3.summary()"
      ]
    },
    {
      "cell_type": "code",
      "execution_count": null,
      "metadata": {
        "id": "ih-ekVOKsXt3"
      },
      "outputs": [],
      "source": [
        "cnn3.compile(optimizer='adam',\n",
        "             loss='sparse_categorical_crossentropy',\n",
        "             metrics=['accuracy'])\n",
        "#We have to go up and check the shape of elements in the recently created dataset"
      ]
    },
    {
      "cell_type": "code",
      "execution_count": null,
      "metadata": {
        "colab": {
          "base_uri": "https://localhost:8080/"
        },
        "id": "YStT8X_bsX7r",
        "outputId": "acfc66b4-aae8-4e4e-a566-094d31344e15"
      },
      "outputs": [
        {
          "name": "stdout",
          "output_type": "stream",
          "text": [
            "Epoch 1/50\n",
            "1407/1407 [==============================] - 7s 5ms/step - loss: 1.5242 - accuracy: 0.4512 - val_loss: 1.2080 - val_accuracy: 0.5758\n",
            "Epoch 2/50\n",
            "1407/1407 [==============================] - 6s 5ms/step - loss: 1.0953 - accuracy: 0.6155 - val_loss: 1.0062 - val_accuracy: 0.6492\n",
            "Epoch 3/50\n",
            "1407/1407 [==============================] - 7s 5ms/step - loss: 0.9106 - accuracy: 0.6839 - val_loss: 0.8939 - val_accuracy: 0.6976\n",
            "Epoch 4/50\n",
            "1407/1407 [==============================] - 7s 5ms/step - loss: 0.7989 - accuracy: 0.7224 - val_loss: 0.8732 - val_accuracy: 0.7116\n",
            "Epoch 5/50\n",
            "1407/1407 [==============================] - 7s 5ms/step - loss: 0.7218 - accuracy: 0.7470 - val_loss: 0.8309 - val_accuracy: 0.7238\n",
            "Epoch 6/50\n",
            "1407/1407 [==============================] - 7s 5ms/step - loss: 0.6566 - accuracy: 0.7713 - val_loss: 0.8054 - val_accuracy: 0.7238\n",
            "Epoch 7/50\n",
            "1407/1407 [==============================] - 7s 5ms/step - loss: 0.6059 - accuracy: 0.7872 - val_loss: 0.8254 - val_accuracy: 0.7266\n",
            "Epoch 8/50\n",
            "1407/1407 [==============================] - 7s 5ms/step - loss: 0.5547 - accuracy: 0.8055 - val_loss: 0.7755 - val_accuracy: 0.7434\n",
            "Epoch 9/50\n",
            "1407/1407 [==============================] - 6s 5ms/step - loss: 0.5078 - accuracy: 0.8234 - val_loss: 0.8431 - val_accuracy: 0.7328\n",
            "Epoch 10/50\n",
            "1407/1407 [==============================] - 6s 5ms/step - loss: 0.4692 - accuracy: 0.8352 - val_loss: 0.8390 - val_accuracy: 0.7242\n",
            "Epoch 11/50\n",
            "1407/1407 [==============================] - 6s 5ms/step - loss: 0.4298 - accuracy: 0.8490 - val_loss: 0.8427 - val_accuracy: 0.7410\n",
            "Epoch 12/50\n",
            "1407/1407 [==============================] - 7s 5ms/step - loss: 0.3904 - accuracy: 0.8620 - val_loss: 0.8627 - val_accuracy: 0.7370\n",
            "Epoch 13/50\n",
            "1407/1407 [==============================] - 6s 4ms/step - loss: 0.3595 - accuracy: 0.8733 - val_loss: 0.9805 - val_accuracy: 0.7238\n",
            "Epoch 14/50\n",
            "1407/1407 [==============================] - 7s 5ms/step - loss: 0.3274 - accuracy: 0.8836 - val_loss: 0.9579 - val_accuracy: 0.7316\n",
            "Epoch 15/50\n",
            "1407/1407 [==============================] - 7s 5ms/step - loss: 0.2985 - accuracy: 0.8941 - val_loss: 0.9826 - val_accuracy: 0.7364\n",
            "Epoch 16/50\n",
            "1407/1407 [==============================] - 7s 5ms/step - loss: 0.2701 - accuracy: 0.9026 - val_loss: 1.0633 - val_accuracy: 0.7306\n",
            "Epoch 17/50\n",
            "1407/1407 [==============================] - 6s 5ms/step - loss: 0.2511 - accuracy: 0.9097 - val_loss: 1.2785 - val_accuracy: 0.7038\n",
            "Epoch 18/50\n",
            "1407/1407 [==============================] - 7s 5ms/step - loss: 0.2295 - accuracy: 0.9164 - val_loss: 1.2867 - val_accuracy: 0.7060\n",
            "Epoch 19/50\n",
            "1407/1407 [==============================] - 7s 5ms/step - loss: 0.2096 - accuracy: 0.9244 - val_loss: 1.2935 - val_accuracy: 0.7224\n",
            "Epoch 20/50\n",
            "1407/1407 [==============================] - 7s 5ms/step - loss: 0.1977 - accuracy: 0.9285 - val_loss: 1.3528 - val_accuracy: 0.7186\n",
            "Epoch 21/50\n",
            "1407/1407 [==============================] - 6s 5ms/step - loss: 0.1859 - accuracy: 0.9323 - val_loss: 1.4257 - val_accuracy: 0.7172\n",
            "Epoch 22/50\n",
            "1407/1407 [==============================] - 7s 5ms/step - loss: 0.1747 - accuracy: 0.9369 - val_loss: 1.4913 - val_accuracy: 0.7156\n",
            "Epoch 23/50\n",
            "1407/1407 [==============================] - 7s 5ms/step - loss: 0.1665 - accuracy: 0.9403 - val_loss: 1.5016 - val_accuracy: 0.7208\n",
            "Epoch 24/50\n",
            "1407/1407 [==============================] - 7s 5ms/step - loss: 0.1607 - accuracy: 0.9431 - val_loss: 1.6891 - val_accuracy: 0.7144\n",
            "Epoch 25/50\n",
            "1407/1407 [==============================] - 7s 5ms/step - loss: 0.1525 - accuracy: 0.9446 - val_loss: 1.6171 - val_accuracy: 0.7180\n",
            "Epoch 26/50\n",
            "1407/1407 [==============================] - 6s 5ms/step - loss: 0.1493 - accuracy: 0.9471 - val_loss: 1.7465 - val_accuracy: 0.7150\n",
            "Epoch 27/50\n",
            "1407/1407 [==============================] - 7s 5ms/step - loss: 0.1439 - accuracy: 0.9492 - val_loss: 1.8178 - val_accuracy: 0.7166\n",
            "Epoch 28/50\n",
            "1407/1407 [==============================] - 6s 5ms/step - loss: 0.1331 - accuracy: 0.9529 - val_loss: 1.8127 - val_accuracy: 0.7156\n",
            "Epoch 29/50\n",
            "1407/1407 [==============================] - 7s 5ms/step - loss: 0.1422 - accuracy: 0.9491 - val_loss: 1.8451 - val_accuracy: 0.7170\n",
            "Epoch 30/50\n",
            "1407/1407 [==============================] - 9s 6ms/step - loss: 0.1376 - accuracy: 0.9518 - val_loss: 1.9956 - val_accuracy: 0.7104\n",
            "Epoch 31/50\n",
            "1407/1407 [==============================] - 7s 5ms/step - loss: 0.1244 - accuracy: 0.9573 - val_loss: 1.9276 - val_accuracy: 0.7192\n",
            "Epoch 32/50\n",
            "1407/1407 [==============================] - 6s 5ms/step - loss: 0.1348 - accuracy: 0.9537 - val_loss: 1.9893 - val_accuracy: 0.7226\n",
            "Epoch 33/50\n",
            "1407/1407 [==============================] - 7s 5ms/step - loss: 0.1204 - accuracy: 0.9597 - val_loss: 2.1451 - val_accuracy: 0.7138\n",
            "Epoch 34/50\n",
            "1407/1407 [==============================] - 7s 5ms/step - loss: 0.1311 - accuracy: 0.9555 - val_loss: 2.1390 - val_accuracy: 0.7146\n",
            "Epoch 35/50\n",
            "1407/1407 [==============================] - 7s 5ms/step - loss: 0.1237 - accuracy: 0.9591 - val_loss: 2.1945 - val_accuracy: 0.7152\n",
            "Epoch 36/50\n",
            "1407/1407 [==============================] - 7s 5ms/step - loss: 0.1253 - accuracy: 0.9566 - val_loss: 2.2622 - val_accuracy: 0.7128\n",
            "Epoch 37/50\n",
            "1407/1407 [==============================] - 7s 5ms/step - loss: 0.1168 - accuracy: 0.9611 - val_loss: 2.3113 - val_accuracy: 0.7172\n",
            "Epoch 38/50\n",
            "1407/1407 [==============================] - 7s 5ms/step - loss: 0.1225 - accuracy: 0.9600 - val_loss: 2.3149 - val_accuracy: 0.7060\n",
            "Epoch 39/50\n",
            "1407/1407 [==============================] - 6s 5ms/step - loss: 0.1249 - accuracy: 0.9593 - val_loss: 2.2668 - val_accuracy: 0.7094\n",
            "Epoch 40/50\n",
            "1407/1407 [==============================] - 7s 5ms/step - loss: 0.1146 - accuracy: 0.9615 - val_loss: 2.3820 - val_accuracy: 0.7220\n",
            "Epoch 41/50\n",
            "1407/1407 [==============================] - 6s 5ms/step - loss: 0.1151 - accuracy: 0.9616 - val_loss: 2.3706 - val_accuracy: 0.7208\n",
            "Epoch 42/50\n",
            "1407/1407 [==============================] - 7s 5ms/step - loss: 0.1166 - accuracy: 0.9624 - val_loss: 2.5029 - val_accuracy: 0.7180\n",
            "Epoch 43/50\n",
            "1407/1407 [==============================] - 7s 5ms/step - loss: 0.1255 - accuracy: 0.9591 - val_loss: 2.5090 - val_accuracy: 0.7122\n",
            "Epoch 44/50\n",
            "1407/1407 [==============================] - 7s 5ms/step - loss: 0.1051 - accuracy: 0.9646 - val_loss: 2.6551 - val_accuracy: 0.7126\n",
            "Epoch 45/50\n",
            "1407/1407 [==============================] - 7s 5ms/step - loss: 0.1168 - accuracy: 0.9640 - val_loss: 2.6234 - val_accuracy: 0.7112\n",
            "Epoch 46/50\n",
            "1407/1407 [==============================] - 7s 5ms/step - loss: 0.1210 - accuracy: 0.9622 - val_loss: 2.6699 - val_accuracy: 0.7140\n",
            "Epoch 47/50\n",
            "1407/1407 [==============================] - 6s 5ms/step - loss: 0.1117 - accuracy: 0.9640 - val_loss: 2.6463 - val_accuracy: 0.7136\n",
            "Epoch 48/50\n",
            "1407/1407 [==============================] - 6s 5ms/step - loss: 0.1176 - accuracy: 0.9632 - val_loss: 2.6150 - val_accuracy: 0.7202\n",
            "Epoch 49/50\n",
            "1407/1407 [==============================] - 6s 5ms/step - loss: 0.1111 - accuracy: 0.9651 - val_loss: 2.7778 - val_accuracy: 0.7066\n",
            "Epoch 50/50\n",
            "1407/1407 [==============================] - 6s 5ms/step - loss: 0.1076 - accuracy: 0.9669 - val_loss: 2.7649 - val_accuracy: 0.7104\n"
          ]
        }
      ],
      "source": [
        "history = cnn3.fit(x_train, y_train, epochs=50, validation_split=0.1)"
      ]
    },
    {
      "cell_type": "code",
      "execution_count": null,
      "metadata": {
        "colab": {
          "base_uri": "https://localhost:8080/"
        },
        "id": "K9ILQK9uMkLs",
        "outputId": "19015edc-deec-43fa-df47-83999e449c66"
      },
      "outputs": [
        {
          "name": "stdout",
          "output_type": "stream",
          "text": [
            "313/313 [==============================] - 1s 4ms/step - loss: 3.0861 - accuracy: 0.6938\n"
          ]
        },
        {
          "data": {
            "text/plain": [
              "0.6937999725341797"
            ]
          },
          "execution_count": 44,
          "metadata": {},
          "output_type": "execute_result"
        }
      ],
      "source": [
        "test_loss, test_acc = cnn3.evaluate(x_test, y_test)\n",
        "# Supposed to pass both data+labels not just x_test\n",
        "test_acc"
      ]
    },
    {
      "cell_type": "code",
      "execution_count": null,
      "metadata": {
        "colab": {
          "base_uri": "https://localhost:8080/",
          "height": 545
        },
        "id": "O4ZB2cn1MkZq",
        "outputId": "dd56f24e-bfb8-4011-cb96-72d4b6c5d72b"
      },
      "outputs": [
        {
          "data": {
            "image/png": "[encoded data removed]",
            "text/plain": [
              "<Figure size 432x288 with 1 Axes>"
            ]
          },
          "metadata": {
            "needs_background": "light"
          },
          "output_type": "display_data"
        },
        {
          "data": {
            "image/png": "[encoded data removed]",
            "text/plain": [
              "<Figure size 432x288 with 1 Axes>"
            ]
          },
          "metadata": {
            "needs_background": "light"
          },
          "output_type": "display_data"
        }
      ],
      "source": [
        "import matplotlib.pyplot as plt\n",
        "accuracy = history.history[\"accuracy\"]\n",
        "val_accuracy = history.history[\"val_accuracy\"]\n",
        "loss = history.history[\"loss\"]\n",
        "val_loss = history.history[\"val_loss\"]\n",
        "epochs = range(1, len(accuracy) + 1)\n",
        "plt.plot(epochs, accuracy, \"bo\", label=\"Training accuracy\")\n",
        "plt.plot(epochs, val_accuracy, \"b\", label=\"Validation accuracy\")\n",
        "plt.title(\"Training and validation accuracy\")\n",
        "plt.legend()\n",
        "plt.figure()\n",
        "plt.plot(epochs, loss, \"bo\", label=\"Training loss\")\n",
        "plt.plot(epochs, val_loss, \"b\", label=\"Validation loss\")\n",
        "plt.title(\"Training and validation loss\")\n",
        "plt.legend()\n",
        "plt.show()"
      ]
    },
    {
      "cell_type": "code",
      "execution_count": null,
      "metadata": {
        "id": "ktPXOpRiQbcd"
      },
      "outputs": [],
      "source": [
        "(x_train, y_train), (x_test, y_test) = datasets.cifar10.load_data()\n",
        "#Normalization\n",
        "x_train = x_train/255\n",
        "x_test = x_test/255"
      ]
    },
    {
      "cell_type": "code",
      "execution_count": null,
      "metadata": {
        "colab": {
          "base_uri": "https://localhost:8080/"
        },
        "id": "os6tDg9GMki0",
        "outputId": "f599bd54-e271-45c8-9bfd-67e28cab4f91"
      },
      "outputs": [
        {
          "name": "stderr",
          "output_type": "stream",
          "text": [
            "WARNING:tensorflow:Using a while_loop for converting RngReadAndSkip\n",
            "WARNING:tensorflow:Using a while_loop for converting Bitcast\n",
            "WARNING:tensorflow:Using a while_loop for converting Bitcast\n",
            "WARNING:tensorflow:Using a while_loop for converting StatelessRandomUniformV2\n",
            "WARNING:tensorflow:Using a while_loop for converting RngReadAndSkip\n",
            "WARNING:tensorflow:Using a while_loop for converting Bitcast\n",
            "WARNING:tensorflow:Using a while_loop for converting Bitcast\n",
            "WARNING:tensorflow:Using a while_loop for converting StatelessRandomUniformFullIntV2\n",
            "WARNING:tensorflow:Using a while_loop for converting StatelessRandomGetKeyCounter\n",
            "WARNING:tensorflow:Using a while_loop for converting StatelessRandomUniformV2\n",
            "WARNING:tensorflow:Using a while_loop for converting AdjustContrastv2\n"
          ]
        }
      ],
      "source": [
        "#Overcoming Overfitting using lesser no. of Epochs defining same model\n",
        "from tensorflow import keras\n",
        "from tensorflow.keras import layers\n",
        "\n",
        "inputs = keras.Input(shape=(32,32,3))\n",
        "x = data_augmentation(inputs)                #Adding Augmentation Layer\n",
        "x = layers.Conv2D(filters=16, kernel_size=3, activation=\"relu\")(inputs)\n",
        "x = layers.Conv2D(filters=32, kernel_size=3, activation=\"relu\")(x)\n",
        "x = layers.MaxPooling2D(pool_size=2)(x)\n",
        "x = layers.Conv2D(filters=64, kernel_size=3, activation=\"relu\")(x)\n",
        "x = layers.Conv2D(filters=128, kernel_size=3, activation=\"relu\")(x)\n",
        "x = layers.MaxPooling2D(pool_size=2)(x)\n",
        "x = layers.Flatten()(x)\n",
        "outputs = layers.Dense(10, activation=\"softmax\")(x)\n",
        "cnn4 = keras.Model(inputs=inputs, outputs=outputs)"
      ]
    },
    {
      "cell_type": "code",
      "execution_count": null,
      "metadata": {
        "colab": {
          "base_uri": "https://localhost:8080/"
        },
        "id": "NygRaH-uPNFi",
        "outputId": "0aba788d-4ec6-479b-b27b-57d99978e909"
      },
      "outputs": [
        {
          "name": "stdout",
          "output_type": "stream",
          "text": [
            "Model: \"model_6\"\n",
            "_________________________________________________________________\n",
            " Layer (type)                Output Shape              Param #   \n",
            "=================================================================\n",
            " input_7 (InputLayer)        [(None, 32, 32, 3)]       0         \n",
            "                                                                 \n",
            " conv2d_24 (Conv2D)          (None, 30, 30, 16)        448       \n",
            "                                                                 \n",
            " conv2d_25 (Conv2D)          (None, 28, 28, 32)        4640      \n",
            "                                                                 \n",
            " max_pooling2d_12 (MaxPoolin  (None, 14, 14, 32)       0         \n",
            " g2D)                                                            \n",
            "                                                                 \n",
            " conv2d_26 (Conv2D)          (None, 12, 12, 64)        18496     \n",
            "                                                                 \n",
            " conv2d_27 (Conv2D)          (None, 10, 10, 128)       73856     \n",
            "                                                                 \n",
            " max_pooling2d_13 (MaxPoolin  (None, 5, 5, 128)        0         \n",
            " g2D)                                                            \n",
            "                                                                 \n",
            " flatten_6 (Flatten)         (None, 3200)              0         \n",
            "                                                                 \n",
            " dense_6 (Dense)             (None, 10)                32010     \n",
            "                                                                 \n",
            "=================================================================\n",
            "Total params: 129,450\n",
            "Trainable params: 129,450\n",
            "Non-trainable params: 0\n",
            "_________________________________________________________________\n"
          ]
        }
      ],
      "source": [
        "cnn4.summary()"
      ]
    },
    {
      "cell_type": "code",
      "execution_count": null,
      "metadata": {
        "id": "iZicOxqBPPya"
      },
      "outputs": [],
      "source": [
        "cnn4.compile(optimizer='adam',\n",
        "             loss='sparse_categorical_crossentropy',\n",
        "             metrics=['accuracy'])"
      ]
    },
    {
      "cell_type": "code",
      "execution_count": null,
      "metadata": {
        "colab": {
          "base_uri": "https://localhost:8080/"
        },
        "id": "obYGwdU0PkKb",
        "outputId": "6d8b99ed-dfd8-4863-e49d-320d23e42f2b"
      },
      "outputs": [
        {
          "name": "stdout",
          "output_type": "stream",
          "text": [
            "Epoch 1/6\n",
            "1407/1407 [==============================] - 8s 5ms/step - loss: 1.4749 - accuracy: 0.4669 - val_loss: 1.1915 - val_accuracy: 0.5722\n",
            "Epoch 2/6\n",
            "1407/1407 [==============================] - 7s 5ms/step - loss: 1.0341 - accuracy: 0.6382 - val_loss: 0.9049 - val_accuracy: 0.6888\n",
            "Epoch 3/6\n",
            "1407/1407 [==============================] - 7s 5ms/step - loss: 0.8433 - accuracy: 0.7092 - val_loss: 0.8119 - val_accuracy: 0.7230\n",
            "Epoch 4/6\n",
            "1407/1407 [==============================] - 7s 5ms/step - loss: 0.7363 - accuracy: 0.7468 - val_loss: 0.7974 - val_accuracy: 0.7260\n",
            "Epoch 5/6\n",
            "1407/1407 [==============================] - 6s 5ms/step - loss: 0.6575 - accuracy: 0.7736 - val_loss: 0.7456 - val_accuracy: 0.7466\n",
            "Epoch 6/6\n",
            "1407/1407 [==============================] - 7s 5ms/step - loss: 0.5920 - accuracy: 0.7955 - val_loss: 0.7798 - val_accuracy: 0.7432\n"
          ]
        }
      ],
      "source": [
        "history = cnn4.fit(x_train, y_train, epochs=6, validation_split=0.1)"
      ]
    },
    {
      "cell_type": "code",
      "execution_count": null,
      "metadata": {
        "colab": {
          "base_uri": "https://localhost:8080/"
        },
        "id": "eFZVmXswP4aU",
        "outputId": "53f24f7e-ea6d-4411-ac15-6ddd42f89634"
      },
      "outputs": [
        {
          "name": "stdout",
          "output_type": "stream",
          "text": [
            "313/313 [==============================] - 1s 3ms/step - loss: 0.8003 - accuracy: 0.7363\n"
          ]
        },
        {
          "data": {
            "text/plain": [
              "0.736299991607666"
            ]
          },
          "execution_count": 62,
          "metadata": {},
          "output_type": "execute_result"
        }
      ],
      "source": [
        "test_loss, test_acc = cnn4.evaluate(x_test, y_test)\n",
        "# Supposed to pass both data+labels not just x_test\n",
        "test_acc"
      ]
    },
    {
      "cell_type": "code",
      "execution_count": null,
      "metadata": {
        "colab": {
          "base_uri": "https://localhost:8080/",
          "height": 545
        },
        "id": "YJUpmmbvP_-x",
        "outputId": "5386b282-d296-4a62-ff4d-1681f0c8a6f5"
      },
      "outputs": [
        {
          "data": {
            "image/png": "[encoded data removed]",
            "text/plain": [
              "<Figure size 432x288 with 1 Axes>"
            ]
          },
          "metadata": {
            "needs_background": "light"
          },
          "output_type": "display_data"
        },
        {
          "data": {
            "image/png": "[encoded data removed]",
            "text/plain": [
              "<Figure size 432x288 with 1 Axes>"
            ]
          },
          "metadata": {
            "needs_background": "light"
          },
          "output_type": "display_data"
        }
      ],
      "source": [
        "import matplotlib.pyplot as plt\n",
        "accuracy = history.history[\"accuracy\"]\n",
        "val_accuracy = history.history[\"val_accuracy\"]\n",
        "loss = history.history[\"loss\"]\n",
        "val_loss = history.history[\"val_loss\"]\n",
        "epochs = range(1, len(accuracy) + 1)\n",
        "plt.plot(epochs, accuracy, \"bo\", label=\"Training accuracy\")\n",
        "plt.plot(epochs, val_accuracy, \"b\", label=\"Validation accuracy\")\n",
        "plt.title(\"Training and validation accuracy\")\n",
        "plt.legend()\n",
        "plt.figure()\n",
        "plt.plot(epochs, loss, \"bo\", label=\"Training loss\")\n",
        "plt.plot(epochs, val_loss, \"b\", label=\"Validation loss\")\n",
        "plt.title(\"Training and validation loss\")\n",
        "plt.legend()\n",
        "plt.show()"
      ]
    },
    {
      "cell_type": "code",
      "execution_count": null,
      "metadata": {
        "id": "dtBgfhQIns9d"
      },
      "outputs": [],
      "source": [
        "#augmented_images = data_augmentation(x_train[0])\n",
        "\n",
        "#for i in range(9):\n",
        " # ax = plt.subplot(3, 3, i+1)\n",
        "  #plt.imshow(augmented_images[i].numpy().astype(\"uint8\"))"
      ]
    },
    {
      "cell_type": "code",
      "execution_count": null,
      "metadata": {
        "id": "oU5o4IllOZ3W"
      },
      "outputs": [],
      "source": [
        "#  Using Pretrained Model \n",
        "#  Instantiating the VGG16 convolutional base\n",
        "\n",
        "conv_base = keras.applications.vgg16.VGG16(\n",
        " weights=\"imagenet\",\n",
        " include_top=False,\n",
        " input_shape=(32, 32, 3))"
      ]
    },
    {
      "cell_type": "code",
      "execution_count": null,
      "metadata": {
        "colab": {
          "base_uri": "https://localhost:8080/"
        },
        "id": "ccDlM1Y_S1qT",
        "outputId": "c65ec030-87ab-42f5-bad7-9deaccfb9889"
      },
      "outputs": [
        {
          "name": "stdout",
          "output_type": "stream",
          "text": [
            "Model: \"vgg16\"\n",
            "_________________________________________________________________\n",
            " Layer (type)                Output Shape              Param #   \n",
            "=================================================================\n",
            " input_6 (InputLayer)        [(None, 32, 32, 3)]       0         \n",
            "                                                                 \n",
            " block1_conv1 (Conv2D)       (None, 32, 32, 64)        1792      \n",
            "                                                                 \n",
            " block1_conv2 (Conv2D)       (None, 32, 32, 64)        36928     \n",
            "                                                                 \n",
            " block1_pool (MaxPooling2D)  (None, 16, 16, 64)        0         \n",
            "                                                                 \n",
            " block2_conv1 (Conv2D)       (None, 16, 16, 128)       73856     \n",
            "                                                                 \n",
            " block2_conv2 (Conv2D)       (None, 16, 16, 128)       147584    \n",
            "                                                                 \n",
            " block2_pool (MaxPooling2D)  (None, 8, 8, 128)         0         \n",
            "                                                                 \n",
            " block3_conv1 (Conv2D)       (None, 8, 8, 256)         295168    \n",
            "                                                                 \n",
            " block3_conv2 (Conv2D)       (None, 8, 8, 256)         590080    \n",
            "                                                                 \n",
            " block3_conv3 (Conv2D)       (None, 8, 8, 256)         590080    \n",
            "                                                                 \n",
            " block3_pool (MaxPooling2D)  (None, 4, 4, 256)         0         \n",
            "                                                                 \n",
            " block4_conv1 (Conv2D)       (None, 4, 4, 512)         1180160   \n",
            "                                                                 \n",
            " block4_conv2 (Conv2D)       (None, 4, 4, 512)         2359808   \n",
            "                                                                 \n",
            " block4_conv3 (Conv2D)       (None, 4, 4, 512)         2359808   \n",
            "                                                                 \n",
            " block4_pool (MaxPooling2D)  (None, 2, 2, 512)         0         \n",
            "                                                                 \n",
            " block5_conv1 (Conv2D)       (None, 2, 2, 512)         2359808   \n",
            "                                                                 \n",
            " block5_conv2 (Conv2D)       (None, 2, 2, 512)         2359808   \n",
            "                                                                 \n",
            " block5_conv3 (Conv2D)       (None, 2, 2, 512)         2359808   \n",
            "                                                                 \n",
            " block5_pool (MaxPooling2D)  (None, 1, 1, 512)         0         \n",
            "                                                                 \n",
            "=================================================================\n",
            "Total params: 14,714,688\n",
            "Trainable params: 14,714,688\n",
            "Non-trainable params: 0\n",
            "_________________________________________________________________\n"
          ]
        }
      ],
      "source": [
        "conv_base.summary()"
      ]
    },
    {
      "cell_type": "markdown",
      "metadata": {
        "id": "lubSmWRKWJFc"
      },
      "source": [
        "**Run the convolutional base over our dataset, record its output to a NumPy array\n",
        "on disk, and then use this data as input to a standalone, densely connected classifier similar to those you saw in chapter 4 of this book. This solution is fast and\n",
        "cheap to run, because it only requires running the convolutional base once for\n",
        "every input image, and the convolutional base is by far the most expensive part\n",
        "of the pipeline. But for the same reason, this technique won’t allow us to use\n",
        "data augmentation.**\n"
      ]
    },
    {
      "cell_type": "code",
      "execution_count": null,
      "metadata": {
        "id": "QiEuxg5RS1vc"
      },
      "outputs": [],
      "source": [
        "import numpy as np\n",
        "def get_features_and_labels(dataset_images, dataset_labels):\n",
        "  all_features = []\n",
        "  all_labels = []\n",
        "  for images, labels in dataset_images, dataset_labels:\n",
        "    preprocessed_images = keras.applications.vgg16.preprocess_input(images)\n",
        "    features = conv_base.predict(preprocessed_images)\n",
        "    all_features.append(features)\n",
        "    all_labels.append(labels)\n",
        "  return np.concatenate(all_features), np.concatenate(all_labels)"
      ]
    },
    {
      "cell_type": "code",
      "execution_count": 41,
      "metadata": {
        "id": "tUP7A-j-W5Xw"
      },
      "outputs": [],
      "source": [
        "#train_features, train_labels =  get_features_and_labels(x_train,y_train)\n",
        "#test_features, test_labels =  get_features_and_labels(x_test, y_test)"
      ]
    },
    {
      "cell_type": "code",
      "execution_count": null,
      "metadata": {
        "id": "gNGmJL9x2I7M"
      },
      "outputs": [],
      "source": [
        "conv_base = keras.applications.vgg16.VGG16(\n",
        " weights=\"imagenet\",\n",
        " include_top=False)\n",
        "conv_base.trainable = False"
      ]
    },
    {
      "cell_type": "code",
      "execution_count": null,
      "metadata": {
        "id": "nC5WirKX2hY0"
      },
      "outputs": [],
      "source": [
        "inputs = keras.Input(shape=(32, 32, 3))\n",
        "\n",
        "x = keras.applications.vgg16.preprocess_input(inputs)\n",
        "x = conv_base(x)\n",
        "x = layers.Flatten()(x)\n",
        "\n",
        "  # Output\n",
        "outputs = layers.Dense(10, activation=\"softmax\")(x)\n",
        "model = keras.Model(inputs, outputs)\n",
        "\n",
        "model.compile(loss=\"sparse_categorical_crossentropy\",\n",
        " optimizer=\"adam\",\n",
        " metrics=[\"accuracy\"])"
      ]
    },
    {
      "cell_type": "code",
      "execution_count": null,
      "metadata": {
        "colab": {
          "base_uri": "https://localhost:8080/"
        },
        "id": "Uz2FRLwg3VNt",
        "outputId": "c6a4654c-cc1a-44ce-be2c-4298015aa832"
      },
      "outputs": [
        {
          "name": "stdout",
          "output_type": "stream",
          "text": [
            "Epoch 1/50\n",
            "1407/1407 [==============================] - 15s 10ms/step - loss: 2.2403 - accuracy: 0.1917 - val_loss: 2.1071 - val_accuracy: 0.2330\n",
            "Epoch 2/50\n",
            "1407/1407 [==============================] - 14s 10ms/step - loss: 2.0820 - accuracy: 0.2369 - val_loss: 2.0853 - val_accuracy: 0.2486\n",
            "Epoch 3/50\n",
            "1407/1407 [==============================] - 14s 10ms/step - loss: 2.0377 - accuracy: 0.2545 - val_loss: 1.9948 - val_accuracy: 0.2848\n",
            "Epoch 4/50\n",
            "1407/1407 [==============================] - 15s 10ms/step - loss: 2.0082 - accuracy: 0.2674 - val_loss: 1.9729 - val_accuracy: 0.2912\n",
            "Epoch 5/50\n",
            "1407/1407 [==============================] - 15s 10ms/step - loss: 1.9924 - accuracy: 0.2714 - val_loss: 1.9684 - val_accuracy: 0.2870\n",
            "Epoch 6/50\n",
            "1407/1407 [==============================] - 15s 10ms/step - loss: 1.9758 - accuracy: 0.2812 - val_loss: 1.9888 - val_accuracy: 0.2810\n",
            "Epoch 7/50\n",
            "1407/1407 [==============================] - 15s 10ms/step - loss: 1.9648 - accuracy: 0.2848 - val_loss: 1.9278 - val_accuracy: 0.3144\n",
            "Epoch 8/50\n",
            "1407/1407 [==============================] - 15s 10ms/step - loss: 1.9559 - accuracy: 0.2884 - val_loss: 1.9523 - val_accuracy: 0.2906\n",
            "Epoch 9/50\n",
            "1407/1407 [==============================] - 15s 11ms/step - loss: 1.9487 - accuracy: 0.2898 - val_loss: 1.9090 - val_accuracy: 0.3102\n",
            "Epoch 10/50\n",
            "1407/1407 [==============================] - 15s 10ms/step - loss: 1.9410 - accuracy: 0.2926 - val_loss: 1.9164 - val_accuracy: 0.3154\n",
            "Epoch 11/50\n",
            "1407/1407 [==============================] - 15s 10ms/step - loss: 1.9339 - accuracy: 0.2928 - val_loss: 1.9198 - val_accuracy: 0.2932\n",
            "Epoch 12/50\n",
            "1407/1407 [==============================] - 15s 10ms/step - loss: 1.9303 - accuracy: 0.2981 - val_loss: 1.9034 - val_accuracy: 0.3036\n",
            "Epoch 13/50\n",
            "1407/1407 [==============================] - 15s 10ms/step - loss: 1.9249 - accuracy: 0.3002 - val_loss: 1.9012 - val_accuracy: 0.3162\n",
            "Epoch 14/50\n",
            "1407/1407 [==============================] - 15s 10ms/step - loss: 1.9196 - accuracy: 0.3030 - val_loss: 1.8861 - val_accuracy: 0.3106\n",
            "Epoch 15/50\n",
            "1407/1407 [==============================] - 15s 10ms/step - loss: 1.9141 - accuracy: 0.3067 - val_loss: 1.9119 - val_accuracy: 0.3090\n",
            "Epoch 16/50\n",
            "1407/1407 [==============================] - 15s 10ms/step - loss: 1.9133 - accuracy: 0.3009 - val_loss: 1.9174 - val_accuracy: 0.3016\n",
            "Epoch 17/50\n",
            "1407/1407 [==============================] - 16s 11ms/step - loss: 1.9098 - accuracy: 0.3071 - val_loss: 1.8742 - val_accuracy: 0.3298\n",
            "Epoch 18/50\n",
            "1407/1407 [==============================] - 15s 10ms/step - loss: 1.9057 - accuracy: 0.3100 - val_loss: 1.8784 - val_accuracy: 0.3226\n",
            "Epoch 19/50\n",
            "1407/1407 [==============================] - 15s 11ms/step - loss: 1.9040 - accuracy: 0.3082 - val_loss: 1.8787 - val_accuracy: 0.3264\n",
            "Epoch 20/50\n",
            "1407/1407 [==============================] - 15s 10ms/step - loss: 1.8985 - accuracy: 0.3116 - val_loss: 1.8813 - val_accuracy: 0.3236\n",
            "Epoch 21/50\n",
            "1407/1407 [==============================] - 15s 11ms/step - loss: 1.8973 - accuracy: 0.3122 - val_loss: 1.8672 - val_accuracy: 0.3294\n",
            "Epoch 22/50\n",
            "1407/1407 [==============================] - 15s 11ms/step - loss: 1.8961 - accuracy: 0.3134 - val_loss: 1.8793 - val_accuracy: 0.3258\n",
            "Epoch 23/50\n",
            "1407/1407 [==============================] - 15s 11ms/step - loss: 1.8928 - accuracy: 0.3139 - val_loss: 1.8807 - val_accuracy: 0.3166\n",
            "Epoch 24/50\n",
            "1407/1407 [==============================] - 15s 11ms/step - loss: 1.8887 - accuracy: 0.3163 - val_loss: 1.8861 - val_accuracy: 0.3194\n",
            "Epoch 25/50\n",
            "1407/1407 [==============================] - 15s 11ms/step - loss: 1.8905 - accuracy: 0.3157 - val_loss: 1.8695 - val_accuracy: 0.3318\n",
            "Epoch 26/50\n",
            "1407/1407 [==============================] - 15s 11ms/step - loss: 1.8879 - accuracy: 0.3139 - val_loss: 1.9351 - val_accuracy: 0.2916\n",
            "Epoch 27/50\n",
            "1407/1407 [==============================] - 15s 10ms/step - loss: 1.8852 - accuracy: 0.3139 - val_loss: 1.8493 - val_accuracy: 0.3430\n",
            "Epoch 28/50\n",
            "1407/1407 [==============================] - 15s 10ms/step - loss: 1.8831 - accuracy: 0.3174 - val_loss: 1.9313 - val_accuracy: 0.3116\n",
            "Epoch 29/50\n",
            "1407/1407 [==============================] - 15s 11ms/step - loss: 1.8828 - accuracy: 0.3171 - val_loss: 1.8626 - val_accuracy: 0.3310\n",
            "Epoch 30/50\n",
            "1407/1407 [==============================] - 16s 12ms/step - loss: 1.8794 - accuracy: 0.3197 - val_loss: 1.8569 - val_accuracy: 0.3266\n",
            "Epoch 31/50\n",
            "1407/1407 [==============================] - 16s 12ms/step - loss: 1.8774 - accuracy: 0.3222 - val_loss: 1.8677 - val_accuracy: 0.3246\n",
            "Epoch 32/50\n",
            "1407/1407 [==============================] - 15s 11ms/step - loss: 1.8756 - accuracy: 0.3204 - val_loss: 1.8686 - val_accuracy: 0.3268\n",
            "Epoch 33/50\n",
            "1407/1407 [==============================] - 15s 11ms/step - loss: 1.8774 - accuracy: 0.3208 - val_loss: 1.8665 - val_accuracy: 0.3180\n",
            "Epoch 34/50\n",
            "1407/1407 [==============================] - 15s 11ms/step - loss: 1.8725 - accuracy: 0.3214 - val_loss: 1.8595 - val_accuracy: 0.3304\n",
            "Epoch 35/50\n",
            "1407/1407 [==============================] - 15s 11ms/step - loss: 1.8756 - accuracy: 0.3196 - val_loss: 1.8415 - val_accuracy: 0.3488\n",
            "Epoch 36/50\n",
            "1407/1407 [==============================] - 15s 11ms/step - loss: 1.8717 - accuracy: 0.3215 - val_loss: 1.8827 - val_accuracy: 0.3294\n",
            "Epoch 37/50\n",
            "1407/1407 [==============================] - 15s 11ms/step - loss: 1.8707 - accuracy: 0.3223 - val_loss: 1.8377 - val_accuracy: 0.3436\n",
            "Epoch 38/50\n",
            "1407/1407 [==============================] - 15s 11ms/step - loss: 1.8722 - accuracy: 0.3217 - val_loss: 1.8646 - val_accuracy: 0.3386\n",
            "Epoch 39/50\n",
            "1407/1407 [==============================] - 15s 11ms/step - loss: 1.8670 - accuracy: 0.3253 - val_loss: 1.8362 - val_accuracy: 0.3476\n",
            "Epoch 40/50\n",
            "1407/1407 [==============================] - 15s 11ms/step - loss: 1.8681 - accuracy: 0.3254 - val_loss: 1.8555 - val_accuracy: 0.3352\n",
            "Epoch 41/50\n",
            "1407/1407 [==============================] - 15s 11ms/step - loss: 1.8649 - accuracy: 0.3266 - val_loss: 1.8625 - val_accuracy: 0.3256\n",
            "Epoch 42/50\n",
            "1407/1407 [==============================] - 15s 11ms/step - loss: 1.8633 - accuracy: 0.3293 - val_loss: 1.8382 - val_accuracy: 0.3442\n",
            "Epoch 43/50\n",
            "1407/1407 [==============================] - 15s 11ms/step - loss: 1.8633 - accuracy: 0.3258 - val_loss: 1.8878 - val_accuracy: 0.2984\n",
            "Epoch 44/50\n",
            "1407/1407 [==============================] - 15s 11ms/step - loss: 1.8622 - accuracy: 0.3269 - val_loss: 1.8625 - val_accuracy: 0.3346\n",
            "Epoch 45/50\n",
            "1407/1407 [==============================] - 15s 11ms/step - loss: 1.8618 - accuracy: 0.3284 - val_loss: 1.8563 - val_accuracy: 0.3338\n",
            "Epoch 46/50\n",
            "1407/1407 [==============================] - 15s 11ms/step - loss: 1.8641 - accuracy: 0.3264 - val_loss: 1.8364 - val_accuracy: 0.3412\n",
            "Epoch 47/50\n",
            "1407/1407 [==============================] - 15s 11ms/step - loss: 1.8621 - accuracy: 0.3278 - val_loss: 1.8433 - val_accuracy: 0.3422\n",
            "Epoch 48/50\n",
            "1407/1407 [==============================] - 16s 11ms/step - loss: 1.8605 - accuracy: 0.3291 - val_loss: 1.8290 - val_accuracy: 0.3496\n",
            "Epoch 49/50\n",
            "1407/1407 [==============================] - 15s 11ms/step - loss: 1.8602 - accuracy: 0.3276 - val_loss: 1.8351 - val_accuracy: 0.3394\n",
            "Epoch 50/50\n",
            "1407/1407 [==============================] - 15s 11ms/step - loss: 1.8599 - accuracy: 0.3286 - val_loss: 1.8550 - val_accuracy: 0.3386\n"
          ]
        },
        {
          "data": {
            "text/plain": [
              "<keras.callbacks.History at 0x7f8ecd3cb350>"
            ]
          },
          "execution_count": 40,
          "metadata": {},
          "output_type": "execute_result"
        }
      ],
      "source": [
        "model.fit(x_train, y_train, epochs=50, validation_split=0.1)"
      ]
    },
    {
      "cell_type": "code",
      "execution_count": null,
      "metadata": {
        "colab": {
          "base_uri": "https://localhost:8080/"
        },
        "id": "deG7PPkG7CbM",
        "outputId": "831e80a1-9b8a-4511-de5d-9f5100d64bf6"
      },
      "outputs": [
        {
          "name": "stdout",
          "output_type": "stream",
          "text": [
            "313/313 [==============================] - 3s 10ms/step - loss: 1.8426 - accuracy: 0.3215\n"
          ]
        },
        {
          "data": {
            "text/plain": [
              "0.3215000033378601"
            ]
          },
          "execution_count": 36,
          "metadata": {},
          "output_type": "execute_result"
        }
      ],
      "source": [
        "test_loss, test_acc = model.evaluate(x_test, y_test)\n",
        "# Supposed to pass both data+labels not just x_test\n",
        "test_acc"
      ]
    },
    {
      "cell_type": "markdown",
      "metadata": {
        "id": "XjCVYdXBhOiy"
      },
      "source": [
        "**VGG (Feature Extraction)**"
      ]
    },
    {
      "cell_type": "code",
      "execution_count": 22,
      "metadata": {
        "id": "tmkZ-HKQP-4i"
      },
      "outputs": [],
      "source": [
        "(x_train, y_train), (x_test, y_test) = datasets.cifar10.load_data()"
      ]
    },
    {
      "cell_type": "code",
      "execution_count": 23,
      "metadata": {
        "id": "xLaH35JjY0wl"
      },
      "outputs": [],
      "source": [
        "#Normalization\n",
        "x_train = x_train/255\n",
        "x_test = x_test/255"
      ]
    },
    {
      "cell_type": "code",
      "execution_count": 24,
      "metadata": {
        "id": "a7gzkf8vP-7Z"
      },
      "outputs": [],
      "source": [
        "from keras.applications import VGG16\n",
        "\n",
        "conv_base = VGG16(weights='imagenet',\n",
        "                  include_top=False,\n",
        "                  input_shape=(32, 32, 3))"
      ]
    },
    {
      "cell_type": "code",
      "execution_count": 25,
      "metadata": {
        "colab": {
          "base_uri": "https://localhost:8080/"
        },
        "id": "PanZFPmIWkX5",
        "outputId": "5911de55-e899-4053-fdb3-06d5c0de4771"
      },
      "outputs": [
        {
          "name": "stdout",
          "output_type": "stream",
          "text": [
            "Model: \"vgg16\"\n",
            "_________________________________________________________________\n",
            " Layer (type)                Output Shape              Param #   \n",
            "=================================================================\n",
            " input_3 (InputLayer)        [(None, 32, 32, 3)]       0         \n",
            "                                                                 \n",
            " block1_conv1 (Conv2D)       (None, 32, 32, 64)        1792      \n",
            "                                                                 \n",
            " block1_conv2 (Conv2D)       (None, 32, 32, 64)        36928     \n",
            "                                                                 \n",
            " block1_pool (MaxPooling2D)  (None, 16, 16, 64)        0         \n",
            "                                                                 \n",
            " block2_conv1 (Conv2D)       (None, 16, 16, 128)       73856     \n",
            "                                                                 \n",
            " block2_conv2 (Conv2D)       (None, 16, 16, 128)       147584    \n",
            "                                                                 \n",
            " block2_pool (MaxPooling2D)  (None, 8, 8, 128)         0         \n",
            "                                                                 \n",
            " block3_conv1 (Conv2D)       (None, 8, 8, 256)         295168    \n",
            "                                                                 \n",
            " block3_conv2 (Conv2D)       (None, 8, 8, 256)         590080    \n",
            "                                                                 \n",
            " block3_conv3 (Conv2D)       (None, 8, 8, 256)         590080    \n",
            "                                                                 \n",
            " block3_pool (MaxPooling2D)  (None, 4, 4, 256)         0         \n",
            "                                                                 \n",
            " block4_conv1 (Conv2D)       (None, 4, 4, 512)         1180160   \n",
            "                                                                 \n",
            " block4_conv2 (Conv2D)       (None, 4, 4, 512)         2359808   \n",
            "                                                                 \n",
            " block4_conv3 (Conv2D)       (None, 4, 4, 512)         2359808   \n",
            "                                                                 \n",
            " block4_pool (MaxPooling2D)  (None, 2, 2, 512)         0         \n",
            "                                                                 \n",
            " block5_conv1 (Conv2D)       (None, 2, 2, 512)         2359808   \n",
            "                                                                 \n",
            " block5_conv2 (Conv2D)       (None, 2, 2, 512)         2359808   \n",
            "                                                                 \n",
            " block5_conv3 (Conv2D)       (None, 2, 2, 512)         2359808   \n",
            "                                                                 \n",
            " block5_pool (MaxPooling2D)  (None, 1, 1, 512)         0         \n",
            "                                                                 \n",
            "=================================================================\n",
            "Total params: 14,714,688\n",
            "Trainable params: 14,714,688\n",
            "Non-trainable params: 0\n",
            "_________________________________________________________________\n"
          ]
        }
      ],
      "source": [
        "conv_base.summary()"
      ]
    },
    {
      "cell_type": "code",
      "execution_count": 26,
      "metadata": {
        "colab": {
          "base_uri": "https://localhost:8080/"
        },
        "id": "Dnxdzzi9XChB",
        "outputId": "645bd7bf-1f30-45b5-c470-4083b2192215"
      },
      "outputs": [
        {
          "name": "stdout",
          "output_type": "stream",
          "text": [
            "1563/1563 [==============================] - 11s 7ms/step\n",
            "313/313 [==============================] - 2s 7ms/step\n"
          ]
        }
      ],
      "source": [
        "x_train = conv_base.predict(x_train)\n",
        "x_test= conv_base.predict(x_test)"
      ]
    },
    {
      "cell_type": "code",
      "execution_count": 27,
      "metadata": {
        "id": "JSrWBl24Xc_4"
      },
      "outputs": [],
      "source": [
        "x_train.shape\n",
        "x_train = np.reshape(x_train,(50000,512))\n",
        "x_test = np.reshape(x_test,(10000,512))"
      ]
    },
    {
      "cell_type": "code",
      "execution_count": 28,
      "metadata": {
        "id": "U_R7OxR-XkeG"
      },
      "outputs": [],
      "source": [
        "from tensorflow.keras import datasets, layers, models, Sequential\n",
        "from keras.layers import Dense, Dropout\n",
        "model = Sequential()\n",
        "\n",
        "model.add(Dense(256, activation='relu',input_dim=1*1*512))\n",
        "model.add(Dropout(0.5))\n",
        "model.add(Dense(10, activation='softmax'))\n",
        "              \n",
        "model.compile(optimizer='adam', loss='sparse_categorical_crossentropy', metrics=['accuracy'])"
      ]
    },
    {
      "cell_type": "code",
      "execution_count": 31,
      "metadata": {
        "colab": {
          "base_uri": "https://localhost:8080/"
        },
        "id": "CzLgbdgdYPAw",
        "outputId": "682394a4-5289-4442-a2fb-884b6f9aa27a"
      },
      "outputs": [
        {
          "name": "stdout",
          "output_type": "stream",
          "text": [
            "Epoch 1/50\n",
            "1407/1407 [==============================] - 4s 3ms/step - loss: 1.1064 - accuracy: 0.6106 - val_loss: 1.0949 - val_accuracy: 0.6168\n",
            "Epoch 2/50\n",
            "1407/1407 [==============================] - 4s 3ms/step - loss: 1.0977 - accuracy: 0.6146 - val_loss: 1.0984 - val_accuracy: 0.6180\n",
            "Epoch 3/50\n",
            "1407/1407 [==============================] - 4s 3ms/step - loss: 1.0859 - accuracy: 0.6198 - val_loss: 1.0977 - val_accuracy: 0.6130\n",
            "Epoch 4/50\n",
            "1407/1407 [==============================] - 4s 3ms/step - loss: 1.0716 - accuracy: 0.6248 - val_loss: 1.0795 - val_accuracy: 0.6218\n",
            "Epoch 5/50\n",
            "1407/1407 [==============================] - 4s 3ms/step - loss: 1.0644 - accuracy: 0.6276 - val_loss: 1.0878 - val_accuracy: 0.6292\n",
            "Epoch 6/50\n",
            "1407/1407 [==============================] - 4s 3ms/step - loss: 1.0571 - accuracy: 0.6260 - val_loss: 1.0849 - val_accuracy: 0.6254\n",
            "Epoch 7/50\n",
            "1407/1407 [==============================] - 4s 3ms/step - loss: 1.0471 - accuracy: 0.6300 - val_loss: 1.0752 - val_accuracy: 0.6306\n",
            "Epoch 8/50\n",
            "1407/1407 [==============================] - 7s 5ms/step - loss: 1.0412 - accuracy: 0.6327 - val_loss: 1.0959 - val_accuracy: 0.6222\n",
            "Epoch 9/50\n",
            "1407/1407 [==============================] - 5s 4ms/step - loss: 1.0302 - accuracy: 0.6352 - val_loss: 1.0736 - val_accuracy: 0.6336\n",
            "Epoch 10/50\n",
            "1407/1407 [==============================] - 4s 3ms/step - loss: 1.0204 - accuracy: 0.6384 - val_loss: 1.0874 - val_accuracy: 0.6226\n",
            "Epoch 11/50\n",
            "1407/1407 [==============================] - 4s 3ms/step - loss: 1.0126 - accuracy: 0.6420 - val_loss: 1.0795 - val_accuracy: 0.6242\n",
            "Epoch 12/50\n",
            "1407/1407 [==============================] - 4s 3ms/step - loss: 1.0064 - accuracy: 0.6417 - val_loss: 1.0913 - val_accuracy: 0.6264\n",
            "Epoch 13/50\n",
            "1407/1407 [==============================] - 4s 3ms/step - loss: 0.9962 - accuracy: 0.6489 - val_loss: 1.0920 - val_accuracy: 0.6212\n",
            "Epoch 14/50\n",
            "1407/1407 [==============================] - 4s 3ms/step - loss: 0.9936 - accuracy: 0.6491 - val_loss: 1.0750 - val_accuracy: 0.6346\n",
            "Epoch 15/50\n",
            "1407/1407 [==============================] - 4s 3ms/step - loss: 0.9840 - accuracy: 0.6523 - val_loss: 1.0863 - val_accuracy: 0.6258\n",
            "Epoch 16/50\n",
            "1407/1407 [==============================] - 4s 3ms/step - loss: 0.9786 - accuracy: 0.6512 - val_loss: 1.0924 - val_accuracy: 0.6264\n",
            "Epoch 17/50\n",
            "1407/1407 [==============================] - 4s 3ms/step - loss: 0.9720 - accuracy: 0.6553 - val_loss: 1.0842 - val_accuracy: 0.6330\n",
            "Epoch 18/50\n",
            "1407/1407 [==============================] - 4s 3ms/step - loss: 0.9627 - accuracy: 0.6580 - val_loss: 1.0868 - val_accuracy: 0.6352\n",
            "Epoch 19/50\n",
            "1407/1407 [==============================] - 4s 3ms/step - loss: 0.9645 - accuracy: 0.6558 - val_loss: 1.0990 - val_accuracy: 0.6226\n",
            "Epoch 20/50\n",
            "1407/1407 [==============================] - 4s 3ms/step - loss: 0.9537 - accuracy: 0.6602 - val_loss: 1.0853 - val_accuracy: 0.6354\n",
            "Epoch 21/50\n",
            "1407/1407 [==============================] - 4s 3ms/step - loss: 0.9468 - accuracy: 0.6619 - val_loss: 1.0977 - val_accuracy: 0.6328\n",
            "Epoch 22/50\n",
            "1407/1407 [==============================] - 4s 3ms/step - loss: 0.9439 - accuracy: 0.6624 - val_loss: 1.0976 - val_accuracy: 0.6290\n",
            "Epoch 23/50\n",
            "1407/1407 [==============================] - 4s 3ms/step - loss: 0.9387 - accuracy: 0.6638 - val_loss: 1.0969 - val_accuracy: 0.6346\n",
            "Epoch 24/50\n",
            "1407/1407 [==============================] - 4s 3ms/step - loss: 0.9377 - accuracy: 0.6659 - val_loss: 1.0955 - val_accuracy: 0.6370\n",
            "Epoch 25/50\n",
            "1407/1407 [==============================] - 4s 3ms/step - loss: 0.9284 - accuracy: 0.6695 - val_loss: 1.1028 - val_accuracy: 0.6320\n",
            "Epoch 26/50\n",
            "1407/1407 [==============================] - 4s 3ms/step - loss: 0.9212 - accuracy: 0.6708 - val_loss: 1.0926 - val_accuracy: 0.6322\n",
            "Epoch 27/50\n",
            "1407/1407 [==============================] - 4s 3ms/step - loss: 0.9210 - accuracy: 0.6735 - val_loss: 1.1058 - val_accuracy: 0.6350\n",
            "Epoch 28/50\n",
            "1407/1407 [==============================] - 4s 3ms/step - loss: 0.9093 - accuracy: 0.6768 - val_loss: 1.1025 - val_accuracy: 0.6330\n",
            "Epoch 29/50\n",
            "1407/1407 [==============================] - 4s 3ms/step - loss: 0.9063 - accuracy: 0.6772 - val_loss: 1.1023 - val_accuracy: 0.6326\n",
            "Epoch 30/50\n",
            "1407/1407 [==============================] - 4s 3ms/step - loss: 0.9009 - accuracy: 0.6791 - val_loss: 1.1125 - val_accuracy: 0.6298\n",
            "Epoch 31/50\n",
            "1407/1407 [==============================] - 4s 3ms/step - loss: 0.8951 - accuracy: 0.6776 - val_loss: 1.1214 - val_accuracy: 0.6306\n",
            "Epoch 32/50\n",
            "1407/1407 [==============================] - 4s 3ms/step - loss: 0.8969 - accuracy: 0.6788 - val_loss: 1.1125 - val_accuracy: 0.6292\n",
            "Epoch 33/50\n",
            "1407/1407 [==============================] - 4s 3ms/step - loss: 0.8858 - accuracy: 0.6835 - val_loss: 1.1316 - val_accuracy: 0.6266\n",
            "Epoch 34/50\n",
            "1407/1407 [==============================] - 4s 3ms/step - loss: 0.8871 - accuracy: 0.6823 - val_loss: 1.1086 - val_accuracy: 0.6334\n",
            "Epoch 35/50\n",
            "1407/1407 [==============================] - 6s 4ms/step - loss: 0.8783 - accuracy: 0.6852 - val_loss: 1.1213 - val_accuracy: 0.6330\n",
            "Epoch 36/50\n",
            "1407/1407 [==============================] - 4s 3ms/step - loss: 0.8769 - accuracy: 0.6866 - val_loss: 1.1350 - val_accuracy: 0.6254\n",
            "Epoch 37/50\n",
            "1407/1407 [==============================] - 4s 3ms/step - loss: 0.8708 - accuracy: 0.6874 - val_loss: 1.1413 - val_accuracy: 0.6326\n",
            "Epoch 38/50\n",
            "1407/1407 [==============================] - 4s 3ms/step - loss: 0.8719 - accuracy: 0.6901 - val_loss: 1.1352 - val_accuracy: 0.6360\n",
            "Epoch 39/50\n",
            "1407/1407 [==============================] - 4s 3ms/step - loss: 0.8679 - accuracy: 0.6879 - val_loss: 1.1369 - val_accuracy: 0.6290\n",
            "Epoch 40/50\n",
            "1407/1407 [==============================] - 4s 3ms/step - loss: 0.8654 - accuracy: 0.6906 - val_loss: 1.1428 - val_accuracy: 0.6338\n",
            "Epoch 41/50\n",
            "1407/1407 [==============================] - 4s 3ms/step - loss: 0.8625 - accuracy: 0.6901 - val_loss: 1.1429 - val_accuracy: 0.6328\n",
            "Epoch 42/50\n",
            "1407/1407 [==============================] - 4s 3ms/step - loss: 0.8497 - accuracy: 0.6932 - val_loss: 1.1400 - val_accuracy: 0.6304\n",
            "Epoch 43/50\n",
            "1407/1407 [==============================] - 4s 3ms/step - loss: 0.8525 - accuracy: 0.6902 - val_loss: 1.1606 - val_accuracy: 0.6336\n",
            "Epoch 44/50\n",
            "1407/1407 [==============================] - 4s 3ms/step - loss: 0.8520 - accuracy: 0.6938 - val_loss: 1.1578 - val_accuracy: 0.6284\n",
            "Epoch 45/50\n",
            "1407/1407 [==============================] - 5s 4ms/step - loss: 0.8412 - accuracy: 0.6982 - val_loss: 1.1449 - val_accuracy: 0.6310\n",
            "Epoch 46/50\n",
            "1407/1407 [==============================] - 4s 3ms/step - loss: 0.8448 - accuracy: 0.6956 - val_loss: 1.1585 - val_accuracy: 0.6284\n",
            "Epoch 47/50\n",
            "1407/1407 [==============================] - 4s 3ms/step - loss: 0.8384 - accuracy: 0.6960 - val_loss: 1.1635 - val_accuracy: 0.6284\n",
            "Epoch 48/50\n",
            "1407/1407 [==============================] - 4s 3ms/step - loss: 0.8376 - accuracy: 0.6956 - val_loss: 1.1534 - val_accuracy: 0.6382\n",
            "Epoch 49/50\n",
            "1407/1407 [==============================] - 4s 3ms/step - loss: 0.8342 - accuracy: 0.7016 - val_loss: 1.1503 - val_accuracy: 0.6328\n",
            "Epoch 50/50\n",
            "1407/1407 [==============================] - 4s 3ms/step - loss: 0.8236 - accuracy: 0.7008 - val_loss: 1.1698 - val_accuracy: 0.6320\n"
          ]
        }
      ],
      "source": [
        "history = model.fit(x_train, y_train, epochs=50, validation_split=0.1)"
      ]
    },
    {
      "cell_type": "code",
      "execution_count": 32,
      "metadata": {
        "colab": {
          "base_uri": "https://localhost:8080/"
        },
        "id": "nK1mpbBdbPB3",
        "outputId": "5e06e773-66e8-4494-c48b-25f064977242"
      },
      "outputs": [
        {
          "name": "stdout",
          "output_type": "stream",
          "text": [
            "313/313 [==============================] - 1s 2ms/step - loss: 1.2145 - accuracy: 0.6186\n"
          ]
        },
        {
          "data": {
            "text/plain": [
              "0.6186000108718872"
            ]
          },
          "execution_count": 32,
          "metadata": {},
          "output_type": "execute_result"
        }
      ],
      "source": [
        "test_loss, test_acc = model.evaluate(x_test, y_test)\n",
        "test_acc"
      ]
    },
    {
      "cell_type": "code",
      "execution_count": 33,
      "metadata": {
        "colab": {
          "base_uri": "https://localhost:8080/",
          "height": 545
        },
        "id": "AegfrYOEbRT5",
        "outputId": "a8d3c430-580b-4f00-f010-0ff1c10be528"
      },
      "outputs": [
        {
          "data": {
            "image/png": "[encoded data removed]",
            "text/plain": [
              "<Figure size 432x288 with 1 Axes>"
            ]
          },
          "metadata": {
            "needs_background": "light"
          },
          "output_type": "display_data"
        },
        {
          "data": {
            "image/png": "[encoded data removed]",
            "text/plain": [
              "<Figure size 432x288 with 1 Axes>"
            ]
          },
          "metadata": {
            "needs_background": "light"
          },
          "output_type": "display_data"
        }
      ],
      "source": [
        "import matplotlib.pyplot as plt\n",
        "accuracy = history.history[\"accuracy\"]\n",
        "val_accuracy = history.history[\"val_accuracy\"]\n",
        "loss = history.history[\"loss\"]\n",
        "val_loss = history.history[\"val_loss\"]\n",
        "epochs = range(1, len(accuracy) + 1)\n",
        "plt.plot(epochs, accuracy, \"bo\", label=\"Training accuracy\")\n",
        "plt.plot(epochs, val_accuracy, \"b\", label=\"Validation accuracy\")\n",
        "plt.title(\"Training and validation accuracy\")\n",
        "plt.legend()\n",
        "plt.figure()\n",
        "plt.plot(epochs, loss, \"bo\", label=\"Training loss\")\n",
        "plt.plot(epochs, val_loss, \"b\", label=\"Validation loss\")\n",
        "plt.title(\"Training and validation loss\")\n",
        "plt.legend()\n",
        "plt.show()"
      ]
    },
    {
      "cell_type": "code",
      "execution_count": 35,
      "metadata": {
        "id": "6Z8fSBaje122"
      },
      "outputs": [],
      "source": [
        "from tensorflow.keras import datasets, layers, models, Sequential\n",
        "from keras.layers import Dense, Dropout\n",
        "model2 = Sequential()\n",
        "\n",
        "model2.add(Dense(128, activation='relu',input_dim=1*1*512))\n",
        "model2.add(Dropout(0.5))\n",
        "model2.add(Dense(10, activation='softmax'))\n",
        "              \n",
        "model2.compile(optimizer='adam', loss='sparse_categorical_crossentropy', metrics=['accuracy'])"
      ]
    },
    {
      "cell_type": "code",
      "execution_count": 37,
      "metadata": {
        "colab": {
          "base_uri": "https://localhost:8080/"
        },
        "id": "1BGkX8AIfEC0",
        "outputId": "fd2cd14e-e42f-453e-e164-9d9a5d328a0e"
      },
      "outputs": [
        {
          "name": "stdout",
          "output_type": "stream",
          "text": [
            "Epoch 1/50\n",
            "1407/1407 [==============================] - 4s 3ms/step - loss: 1.5893 - accuracy: 0.4409 - val_loss: 1.2746 - val_accuracy: 0.5576\n",
            "Epoch 2/50\n",
            "1407/1407 [==============================] - 4s 3ms/step - loss: 1.3717 - accuracy: 0.5216 - val_loss: 1.2249 - val_accuracy: 0.5792\n",
            "Epoch 3/50\n",
            "1407/1407 [==============================] - 4s 3ms/step - loss: 1.3226 - accuracy: 0.5368 - val_loss: 1.1833 - val_accuracy: 0.5838\n",
            "Epoch 4/50\n",
            "1407/1407 [==============================] - 4s 3ms/step - loss: 1.2875 - accuracy: 0.5512 - val_loss: 1.1602 - val_accuracy: 0.5962\n",
            "Epoch 5/50\n",
            "1407/1407 [==============================] - 4s 3ms/step - loss: 1.2619 - accuracy: 0.5592 - val_loss: 1.1478 - val_accuracy: 0.6012\n",
            "Epoch 6/50\n",
            "1407/1407 [==============================] - 4s 3ms/step - loss: 1.2480 - accuracy: 0.5641 - val_loss: 1.1431 - val_accuracy: 0.6018\n",
            "Epoch 7/50\n",
            "1407/1407 [==============================] - 4s 3ms/step - loss: 1.2319 - accuracy: 0.5722 - val_loss: 1.1328 - val_accuracy: 0.6014\n",
            "Epoch 8/50\n",
            "1407/1407 [==============================] - 4s 3ms/step - loss: 1.2158 - accuracy: 0.5765 - val_loss: 1.1312 - val_accuracy: 0.6036\n",
            "Epoch 9/50\n",
            "1407/1407 [==============================] - 4s 3ms/step - loss: 1.2076 - accuracy: 0.5809 - val_loss: 1.1222 - val_accuracy: 0.6068\n",
            "Epoch 10/50\n",
            "1407/1407 [==============================] - 4s 3ms/step - loss: 1.1967 - accuracy: 0.5823 - val_loss: 1.1196 - val_accuracy: 0.6114\n",
            "Epoch 11/50\n",
            "1407/1407 [==============================] - 4s 3ms/step - loss: 1.1915 - accuracy: 0.5825 - val_loss: 1.1265 - val_accuracy: 0.6036\n",
            "Epoch 12/50\n",
            "1407/1407 [==============================] - 4s 3ms/step - loss: 1.1803 - accuracy: 0.5862 - val_loss: 1.1192 - val_accuracy: 0.6110\n",
            "Epoch 13/50\n",
            "1407/1407 [==============================] - 4s 3ms/step - loss: 1.1758 - accuracy: 0.5894 - val_loss: 1.1178 - val_accuracy: 0.6052\n",
            "Epoch 14/50\n",
            "1407/1407 [==============================] - 4s 3ms/step - loss: 1.1648 - accuracy: 0.5937 - val_loss: 1.1096 - val_accuracy: 0.6128\n",
            "Epoch 15/50\n",
            "1407/1407 [==============================] - 4s 3ms/step - loss: 1.1601 - accuracy: 0.5954 - val_loss: 1.1117 - val_accuracy: 0.6168\n",
            "Epoch 16/50\n",
            "1407/1407 [==============================] - 4s 3ms/step - loss: 1.1526 - accuracy: 0.5958 - val_loss: 1.1085 - val_accuracy: 0.6166\n",
            "Epoch 17/50\n",
            "1407/1407 [==============================] - 4s 3ms/step - loss: 1.1521 - accuracy: 0.5976 - val_loss: 1.1085 - val_accuracy: 0.6154\n",
            "Epoch 18/50\n",
            "1407/1407 [==============================] - 4s 3ms/step - loss: 1.1473 - accuracy: 0.5988 - val_loss: 1.1083 - val_accuracy: 0.6140\n",
            "Epoch 19/50\n",
            "1407/1407 [==============================] - 4s 3ms/step - loss: 1.1384 - accuracy: 0.6014 - val_loss: 1.1134 - val_accuracy: 0.6100\n",
            "Epoch 20/50\n",
            "1407/1407 [==============================] - 4s 3ms/step - loss: 1.1287 - accuracy: 0.6038 - val_loss: 1.1113 - val_accuracy: 0.6134\n",
            "Epoch 21/50\n",
            "1407/1407 [==============================] - 4s 3ms/step - loss: 1.1288 - accuracy: 0.6039 - val_loss: 1.1121 - val_accuracy: 0.6114\n",
            "Epoch 22/50\n",
            "1407/1407 [==============================] - 4s 3ms/step - loss: 1.1194 - accuracy: 0.6060 - val_loss: 1.1086 - val_accuracy: 0.6168\n",
            "Epoch 23/50\n",
            "1407/1407 [==============================] - 4s 3ms/step - loss: 1.1196 - accuracy: 0.6054 - val_loss: 1.1103 - val_accuracy: 0.6148\n",
            "Epoch 24/50\n",
            "1407/1407 [==============================] - 4s 3ms/step - loss: 1.1084 - accuracy: 0.6094 - val_loss: 1.0996 - val_accuracy: 0.6184\n",
            "Epoch 25/50\n",
            "1407/1407 [==============================] - 4s 3ms/step - loss: 1.1155 - accuracy: 0.6105 - val_loss: 1.1094 - val_accuracy: 0.6126\n",
            "Epoch 26/50\n",
            "1407/1407 [==============================] - 4s 3ms/step - loss: 1.1114 - accuracy: 0.6120 - val_loss: 1.1182 - val_accuracy: 0.6084\n",
            "Epoch 27/50\n",
            "1407/1407 [==============================] - 4s 3ms/step - loss: 1.1058 - accuracy: 0.6103 - val_loss: 1.1089 - val_accuracy: 0.6148\n",
            "Epoch 28/50\n",
            "1407/1407 [==============================] - 4s 3ms/step - loss: 1.0976 - accuracy: 0.6148 - val_loss: 1.1078 - val_accuracy: 0.6120\n",
            "Epoch 29/50\n",
            "1407/1407 [==============================] - 4s 3ms/step - loss: 1.0992 - accuracy: 0.6144 - val_loss: 1.1135 - val_accuracy: 0.6146\n",
            "Epoch 30/50\n",
            "1407/1407 [==============================] - 4s 3ms/step - loss: 1.0942 - accuracy: 0.6118 - val_loss: 1.1140 - val_accuracy: 0.6088\n",
            "Epoch 31/50\n",
            "1407/1407 [==============================] - 4s 3ms/step - loss: 1.0924 - accuracy: 0.6146 - val_loss: 1.1110 - val_accuracy: 0.6166\n",
            "Epoch 32/50\n",
            "1407/1407 [==============================] - 4s 3ms/step - loss: 1.0868 - accuracy: 0.6158 - val_loss: 1.1138 - val_accuracy: 0.6122\n",
            "Epoch 33/50\n",
            "1407/1407 [==============================] - 4s 3ms/step - loss: 1.0836 - accuracy: 0.6179 - val_loss: 1.1078 - val_accuracy: 0.6130\n",
            "Epoch 34/50\n",
            "1407/1407 [==============================] - 4s 3ms/step - loss: 1.0786 - accuracy: 0.6185 - val_loss: 1.1135 - val_accuracy: 0.6170\n",
            "Epoch 35/50\n",
            "1407/1407 [==============================] - 4s 3ms/step - loss: 1.0786 - accuracy: 0.6189 - val_loss: 1.1088 - val_accuracy: 0.6156\n",
            "Epoch 36/50\n",
            "1407/1407 [==============================] - 4s 3ms/step - loss: 1.0758 - accuracy: 0.6176 - val_loss: 1.1077 - val_accuracy: 0.6178\n",
            "Epoch 37/50\n",
            "1407/1407 [==============================] - 4s 3ms/step - loss: 1.0738 - accuracy: 0.6188 - val_loss: 1.1096 - val_accuracy: 0.6178\n",
            "Epoch 38/50\n",
            "1407/1407 [==============================] - 4s 3ms/step - loss: 1.0646 - accuracy: 0.6245 - val_loss: 1.1208 - val_accuracy: 0.6154\n",
            "Epoch 39/50\n",
            "1407/1407 [==============================] - 4s 3ms/step - loss: 1.0647 - accuracy: 0.6231 - val_loss: 1.1091 - val_accuracy: 0.6170\n",
            "Epoch 40/50\n",
            "1407/1407 [==============================] - 4s 3ms/step - loss: 1.0705 - accuracy: 0.6214 - val_loss: 1.1151 - val_accuracy: 0.6130\n",
            "Epoch 41/50\n",
            "1407/1407 [==============================] - 4s 3ms/step - loss: 1.0665 - accuracy: 0.6258 - val_loss: 1.1136 - val_accuracy: 0.6176\n",
            "Epoch 42/50\n",
            "1407/1407 [==============================] - 4s 3ms/step - loss: 1.0607 - accuracy: 0.6238 - val_loss: 1.1132 - val_accuracy: 0.6204\n",
            "Epoch 43/50\n",
            "1407/1407 [==============================] - 4s 3ms/step - loss: 1.0554 - accuracy: 0.6248 - val_loss: 1.1217 - val_accuracy: 0.6134\n",
            "Epoch 44/50\n",
            "1407/1407 [==============================] - 4s 3ms/step - loss: 1.0546 - accuracy: 0.6236 - val_loss: 1.1240 - val_accuracy: 0.6144\n",
            "Epoch 45/50\n",
            "1407/1407 [==============================] - 4s 3ms/step - loss: 1.0559 - accuracy: 0.6272 - val_loss: 1.1145 - val_accuracy: 0.6130\n",
            "Epoch 46/50\n",
            "1407/1407 [==============================] - 4s 3ms/step - loss: 1.0505 - accuracy: 0.6294 - val_loss: 1.1179 - val_accuracy: 0.6192\n",
            "Epoch 47/50\n",
            "1407/1407 [==============================] - 4s 3ms/step - loss: 1.0452 - accuracy: 0.6297 - val_loss: 1.1185 - val_accuracy: 0.6116\n",
            "Epoch 48/50\n",
            "1407/1407 [==============================] - 4s 3ms/step - loss: 1.0469 - accuracy: 0.6283 - val_loss: 1.1252 - val_accuracy: 0.6136\n",
            "Epoch 49/50\n",
            "1407/1407 [==============================] - 4s 3ms/step - loss: 1.0435 - accuracy: 0.6294 - val_loss: 1.1366 - val_accuracy: 0.6148\n",
            "Epoch 50/50\n",
            "1407/1407 [==============================] - 4s 3ms/step - loss: 1.0431 - accuracy: 0.6282 - val_loss: 1.1224 - val_accuracy: 0.6180\n"
          ]
        }
      ],
      "source": [
        "history = model2.fit(x_train, y_train, epochs=50, validation_split=0.1)"
      ]
    },
    {
      "cell_type": "code",
      "execution_count": 39,
      "metadata": {
        "colab": {
          "base_uri": "https://localhost:8080/"
        },
        "id": "KbWnA-Hpf_7d",
        "outputId": "e9e44494-26e5-4ed4-ee66-1cf12972de32"
      },
      "outputs": [
        {
          "name": "stdout",
          "output_type": "stream",
          "text": [
            "313/313 [==============================] - 1s 2ms/step - loss: 1.1610 - accuracy: 0.6054\n"
          ]
        },
        {
          "data": {
            "text/plain": [
              "0.605400025844574"
            ]
          },
          "execution_count": 39,
          "metadata": {},
          "output_type": "execute_result"
        }
      ],
      "source": [
        "test_loss, test_acc = model2.evaluate(x_test, y_test)\n",
        "test_acc"
      ]
    },
    {
      "cell_type": "code",
      "execution_count": 40,
      "metadata": {
        "colab": {
          "base_uri": "https://localhost:8080/",
          "height": 545
        },
        "id": "IQd5Br-SgGcM",
        "outputId": "ef2df112-c1e8-423f-cf1b-fb534d6c6a47"
      },
      "outputs": [
        {
          "data": {
            "image/png": "[encoded data removed]",
            "text/plain": [
              "<Figure size 432x288 with 1 Axes>"
            ]
          },
          "metadata": {
            "needs_background": "light"
          },
          "output_type": "display_data"
        },
        {
          "data": {
            "image/png": "[encoded data removed]",
            "text/plain": [
              "<Figure size 432x288 with 1 Axes>"
            ]
          },
          "metadata": {
            "needs_background": "light"
          },
          "output_type": "display_data"
        }
      ],
      "source": [
        "import matplotlib.pyplot as plt\n",
        "accuracy = history.history[\"accuracy\"]\n",
        "val_accuracy = history.history[\"val_accuracy\"]\n",
        "loss = history.history[\"loss\"]\n",
        "val_loss = history.history[\"val_loss\"]\n",
        "epochs = range(1, len(accuracy) + 1)\n",
        "plt.plot(epochs, accuracy, \"bo\", label=\"Training accuracy\")\n",
        "plt.plot(epochs, val_accuracy, \"b\", label=\"Validation accuracy\")\n",
        "plt.title(\"Training and validation accuracy\")\n",
        "plt.legend()\n",
        "plt.figure()\n",
        "plt.plot(epochs, loss, \"bo\", label=\"Training loss\")\n",
        "plt.plot(epochs, val_loss, \"b\", label=\"Validation loss\")\n",
        "plt.title(\"Training and validation loss\")\n",
        "plt.legend()\n",
        "plt.show()"
      ]
    },
    {
      "cell_type": "markdown",
      "metadata": {
        "id": "2ki9MQyThc65"
      },
      "source": [
        "**VGG (Tuning Parameters)**"
      ]
    },
    {
      "cell_type": "code",
      "execution_count": 1,
      "metadata": {
        "colab": {
          "base_uri": "https://localhost:8080/"
        },
        "id": "otn4NJFegApW",
        "outputId": "dabf8439-bbbd-4751-b1b9-71e33fa2185e"
      },
      "outputs": [
        {
          "name": "stdout",
          "output_type": "stream",
          "text": [
            "Downloading data from https://storage.googleapis.com/tensorflow/keras-applications/vgg16/vgg16_weights_tf_dim_ordering_tf_kernels_notop.h5\n",
            "58889256/58889256 [==============================] - 0s 0us/step\n"
          ]
        }
      ],
      "source": [
        "from keras.applications import VGG16\n",
        "\n",
        "conv_base = VGG16(weights='imagenet',\n",
        "                  include_top=False,\n",
        "                  input_shape=(32, 32, 3))"
      ]
    },
    {
      "cell_type": "code",
      "execution_count": 2,
      "metadata": {
        "colab": {
          "base_uri": "https://localhost:8080/"
        },
        "id": "OPnUq-4etVw0",
        "outputId": "aa9a47a5-5579-4faf-f931-a5a051577076"
      },
      "outputs": [
        {
          "name": "stdout",
          "output_type": "stream",
          "text": [
            "Model: \"vgg16\"\n",
            "_________________________________________________________________\n",
            " Layer (type)                Output Shape              Param #   \n",
            "=================================================================\n",
            " input_1 (InputLayer)        [(None, 32, 32, 3)]       0         \n",
            "                                                                 \n",
            " block1_conv1 (Conv2D)       (None, 32, 32, 64)        1792      \n",
            "                                                                 \n",
            " block1_conv2 (Conv2D)       (None, 32, 32, 64)        36928     \n",
            "                                                                 \n",
            " block1_pool (MaxPooling2D)  (None, 16, 16, 64)        0         \n",
            "                                                                 \n",
            " block2_conv1 (Conv2D)       (None, 16, 16, 128)       73856     \n",
            "                                                                 \n",
            " block2_conv2 (Conv2D)       (None, 16, 16, 128)       147584    \n",
            "                                                                 \n",
            " block2_pool (MaxPooling2D)  (None, 8, 8, 128)         0         \n",
            "                                                                 \n",
            " block3_conv1 (Conv2D)       (None, 8, 8, 256)         295168    \n",
            "                                                                 \n",
            " block3_conv2 (Conv2D)       (None, 8, 8, 256)         590080    \n",
            "                                                                 \n",
            " block3_conv3 (Conv2D)       (None, 8, 8, 256)         590080    \n",
            "                                                                 \n",
            " block3_pool (MaxPooling2D)  (None, 4, 4, 256)         0         \n",
            "                                                                 \n",
            " block4_conv1 (Conv2D)       (None, 4, 4, 512)         1180160   \n",
            "                                                                 \n",
            " block4_conv2 (Conv2D)       (None, 4, 4, 512)         2359808   \n",
            "                                                                 \n",
            " block4_conv3 (Conv2D)       (None, 4, 4, 512)         2359808   \n",
            "                                                                 \n",
            " block4_pool (MaxPooling2D)  (None, 2, 2, 512)         0         \n",
            "                                                                 \n",
            " block5_conv1 (Conv2D)       (None, 2, 2, 512)         2359808   \n",
            "                                                                 \n",
            " block5_conv2 (Conv2D)       (None, 2, 2, 512)         2359808   \n",
            "                                                                 \n",
            " block5_conv3 (Conv2D)       (None, 2, 2, 512)         2359808   \n",
            "                                                                 \n",
            " block5_pool (MaxPooling2D)  (None, 1, 1, 512)         0         \n",
            "                                                                 \n",
            "=================================================================\n",
            "Total params: 14,714,688\n",
            "Trainable params: 14,714,688\n",
            "Non-trainable params: 0\n",
            "_________________________________________________________________\n"
          ]
        }
      ],
      "source": [
        "conv_base.summary()"
      ]
    },
    {
      "cell_type": "code",
      "execution_count": 3,
      "metadata": {
        "id": "4DzGFmmNiAj2"
      },
      "outputs": [],
      "source": [
        "conv_base.trainable = True\n",
        "\n",
        "set_trainable = False\n",
        "for layer in conv_base.layers:\n",
        "    if layer.name == 'block5_conv1':\n",
        "        set_trainable = True\n",
        "    if set_trainable:\n",
        "        layer.trainable = True\n",
        "    else:\n",
        "        layer.trainable = False"
      ]
    },
    {
      "cell_type": "code",
      "execution_count": 6,
      "metadata": {
        "id": "GI1bFuTMjngL"
      },
      "outputs": [],
      "source": [
        "inputs = keras.Input(shape=(32,32,3))\n",
        "x = conv_base(inputs)\n",
        "x = layers.Dense(128, activation=\"relu\")(x)\n",
        "x = layers.Flatten()(x)\n",
        "outputs = layers.Dense(10, activation=\"softmax\")(x)\n",
        "model = keras.Model(inputs=inputs, outputs=outputs)"
      ]
    },
    {
      "cell_type": "code",
      "execution_count": 7,
      "metadata": {
        "colab": {
          "base_uri": "https://localhost:8080/"
        },
        "id": "y2yEiTY_keOi",
        "outputId": "a0b849b5-ecf6-4e61-919a-253fea896608"
      },
      "outputs": [
        {
          "name": "stdout",
          "output_type": "stream",
          "text": [
            "Model: \"model\"\n",
            "_________________________________________________________________\n",
            " Layer (type)                Output Shape              Param #   \n",
            "=================================================================\n",
            " input_2 (InputLayer)        [(None, 32, 32, 3)]       0         \n",
            "                                                                 \n",
            " vgg16 (Functional)          (None, 1, 1, 512)         14714688  \n",
            "                                                                 \n",
            " dense (Dense)               (None, 1, 1, 128)         65664     \n",
            "                                                                 \n",
            " flatten (Flatten)           (None, 128)               0         \n",
            "                                                                 \n",
            " dense_1 (Dense)             (None, 10)                1290      \n",
            "                                                                 \n",
            "=================================================================\n",
            "Total params: 14,781,642\n",
            "Trainable params: 7,146,378\n",
            "Non-trainable params: 7,635,264\n",
            "_________________________________________________________________\n"
          ]
        }
      ],
      "source": [
        "model.summary()"
      ]
    },
    {
      "cell_type": "code",
      "execution_count": 8,
      "metadata": {
        "id": "3CQtk-INkwoJ"
      },
      "outputs": [],
      "source": [
        "model.compile(loss='sparse_categorical_crossentropy',\n",
        "              optimizer='adam',\n",
        "              metrics=['accuracy'])"
      ]
    },
    {
      "cell_type": "code",
      "execution_count": 9,
      "metadata": {
        "colab": {
          "base_uri": "https://localhost:8080/"
        },
        "id": "v8DaQiG1lJy7",
        "outputId": "2061c420-c8dd-4dcc-8caa-d6315319ddfe"
      },
      "outputs": [
        {
          "name": "stdout",
          "output_type": "stream",
          "text": [
            "Downloading data from https://www.cs.toronto.edu/~kriz/cifar-10-python.tar.gz\n",
            "170498071/170498071 [==============================] - 3s 0us/step\n"
          ]
        }
      ],
      "source": [
        "(x_train, y_train), (x_test, y_test) = datasets.cifar10.load_data()\n",
        "#Normalization\n",
        "x_train = x_train/255\n",
        "x_test = x_test/255"
      ]
    },
    {
      "cell_type": "code",
      "execution_count": 10,
      "metadata": {
        "colab": {
          "base_uri": "https://localhost:8080/"
        },
        "id": "DpC43m8tlB1h",
        "outputId": "b410c7e1-9460-4cc6-ca34-9ee3c95b22a7"
      },
      "outputs": [
        {
          "name": "stdout",
          "output_type": "stream",
          "text": [
            "Epoch 1/50\n",
            "1407/1407 [==============================] - 35s 18ms/step - loss: 1.1517 - accuracy: 0.5964 - val_loss: 0.9665 - val_accuracy: 0.6688\n",
            "Epoch 2/50\n",
            "1407/1407 [==============================] - 25s 17ms/step - loss: 0.8380 - accuracy: 0.7140 - val_loss: 0.8869 - val_accuracy: 0.6964\n",
            "Epoch 3/50\n",
            "1407/1407 [==============================] - 24s 17ms/step - loss: 0.7347 - accuracy: 0.7475 - val_loss: 0.7991 - val_accuracy: 0.7262\n",
            "Epoch 4/50\n",
            "1407/1407 [==============================] - 24s 17ms/step - loss: 0.6586 - accuracy: 0.7749 - val_loss: 0.7979 - val_accuracy: 0.7414\n",
            "Epoch 5/50\n",
            "1407/1407 [==============================] - 24s 17ms/step - loss: 0.5978 - accuracy: 0.7921 - val_loss: 0.8002 - val_accuracy: 0.7328\n",
            "Epoch 6/50\n",
            "1407/1407 [==============================] - 25s 17ms/step - loss: 0.5432 - accuracy: 0.8120 - val_loss: 0.8234 - val_accuracy: 0.7460\n",
            "Epoch 7/50\n",
            "1407/1407 [==============================] - 25s 17ms/step - loss: 0.4957 - accuracy: 0.8261 - val_loss: 0.8241 - val_accuracy: 0.7452\n",
            "Epoch 8/50\n",
            "1407/1407 [==============================] - 24s 17ms/step - loss: 0.4457 - accuracy: 0.8464 - val_loss: 0.8448 - val_accuracy: 0.7416\n",
            "Epoch 9/50\n",
            "1407/1407 [==============================] - 24s 17ms/step - loss: 0.3984 - accuracy: 0.8609 - val_loss: 0.8777 - val_accuracy: 0.7500\n",
            "Epoch 10/50\n",
            "1407/1407 [==============================] - 25s 18ms/step - loss: 0.3567 - accuracy: 0.8752 - val_loss: 0.9792 - val_accuracy: 0.7494\n",
            "Epoch 11/50\n",
            "1407/1407 [==============================] - 24s 17ms/step - loss: 0.3317 - accuracy: 0.8858 - val_loss: 0.9326 - val_accuracy: 0.7530\n",
            "Epoch 12/50\n",
            "1407/1407 [==============================] - 25s 17ms/step - loss: 0.2896 - accuracy: 0.9007 - val_loss: 1.0017 - val_accuracy: 0.7452\n",
            "Epoch 13/50\n",
            "1407/1407 [==============================] - 24s 17ms/step - loss: 0.2615 - accuracy: 0.9090 - val_loss: 1.0873 - val_accuracy: 0.7412\n",
            "Epoch 14/50\n",
            "1407/1407 [==============================] - 24s 17ms/step - loss: 0.2416 - accuracy: 0.9154 - val_loss: 1.1144 - val_accuracy: 0.7434\n",
            "Epoch 15/50\n",
            "1407/1407 [==============================] - 24s 17ms/step - loss: 0.2191 - accuracy: 0.9249 - val_loss: 1.2067 - val_accuracy: 0.7480\n",
            "Epoch 16/50\n",
            "1407/1407 [==============================] - 25s 18ms/step - loss: 0.2156 - accuracy: 0.9266 - val_loss: 1.1688 - val_accuracy: 0.7492\n",
            "Epoch 17/50\n",
            "1407/1407 [==============================] - 26s 18ms/step - loss: 0.1802 - accuracy: 0.9393 - val_loss: 1.3133 - val_accuracy: 0.7356\n",
            "Epoch 18/50\n",
            "1407/1407 [==============================] - 26s 18ms/step - loss: 0.1690 - accuracy: 0.9430 - val_loss: 1.2510 - val_accuracy: 0.7542\n",
            "Epoch 19/50\n",
            "1407/1407 [==============================] - 25s 18ms/step - loss: 0.1616 - accuracy: 0.9461 - val_loss: 1.3844 - val_accuracy: 0.7398\n",
            "Epoch 20/50\n",
            "1407/1407 [==============================] - 24s 17ms/step - loss: 0.1489 - accuracy: 0.9512 - val_loss: 1.3309 - val_accuracy: 0.7436\n",
            "Epoch 21/50\n",
            "1407/1407 [==============================] - 24s 17ms/step - loss: 0.1419 - accuracy: 0.9535 - val_loss: 1.6972 - val_accuracy: 0.7428\n",
            "Epoch 22/50\n",
            "1407/1407 [==============================] - 24s 17ms/step - loss: 0.1397 - accuracy: 0.9548 - val_loss: 1.5312 - val_accuracy: 0.7478\n",
            "Epoch 23/50\n",
            "1407/1407 [==============================] - 24s 17ms/step - loss: 0.1228 - accuracy: 0.9590 - val_loss: 1.6486 - val_accuracy: 0.7366\n",
            "Epoch 24/50\n",
            "1407/1407 [==============================] - 24s 17ms/step - loss: 0.1231 - accuracy: 0.9601 - val_loss: 1.5182 - val_accuracy: 0.7432\n",
            "Epoch 25/50\n",
            "1407/1407 [==============================] - 24s 17ms/step - loss: 0.1143 - accuracy: 0.9635 - val_loss: 1.5042 - val_accuracy: 0.7412\n",
            "Epoch 26/50\n",
            "1407/1407 [==============================] - 24s 17ms/step - loss: 0.1162 - accuracy: 0.9632 - val_loss: 1.6414 - val_accuracy: 0.7342\n",
            "Epoch 27/50\n",
            "1407/1407 [==============================] - 24s 17ms/step - loss: 0.1040 - accuracy: 0.9671 - val_loss: 1.7294 - val_accuracy: 0.7394\n",
            "Epoch 28/50\n",
            "1407/1407 [==============================] - 24s 17ms/step - loss: 0.1064 - accuracy: 0.9668 - val_loss: 1.6252 - val_accuracy: 0.7444\n",
            "Epoch 29/50\n",
            "1407/1407 [==============================] - 24s 17ms/step - loss: 0.0954 - accuracy: 0.9698 - val_loss: 1.6728 - val_accuracy: 0.7412\n",
            "Epoch 30/50\n",
            "1407/1407 [==============================] - 24s 17ms/step - loss: 0.0931 - accuracy: 0.9718 - val_loss: 1.6781 - val_accuracy: 0.7376\n",
            "Epoch 31/50\n",
            "1407/1407 [==============================] - 24s 17ms/step - loss: 0.0871 - accuracy: 0.9727 - val_loss: 1.7367 - val_accuracy: 0.7314\n",
            "Epoch 32/50\n",
            "1407/1407 [==============================] - 24s 17ms/step - loss: 0.0869 - accuracy: 0.9725 - val_loss: 1.9269 - val_accuracy: 0.7412\n",
            "Epoch 33/50\n",
            "1407/1407 [==============================] - 25s 18ms/step - loss: 0.0900 - accuracy: 0.9729 - val_loss: 1.5970 - val_accuracy: 0.7402\n",
            "Epoch 34/50\n",
            "1407/1407 [==============================] - 24s 17ms/step - loss: 0.0883 - accuracy: 0.9732 - val_loss: 1.8143 - val_accuracy: 0.7396\n",
            "Epoch 35/50\n",
            "1407/1407 [==============================] - 24s 17ms/step - loss: 0.0908 - accuracy: 0.9725 - val_loss: 2.0653 - val_accuracy: 0.7368\n",
            "Epoch 36/50\n",
            "1407/1407 [==============================] - 24s 17ms/step - loss: 0.0751 - accuracy: 0.9775 - val_loss: 1.8854 - val_accuracy: 0.7324\n",
            "Epoch 37/50\n",
            "1407/1407 [==============================] - 24s 17ms/step - loss: 0.0737 - accuracy: 0.9779 - val_loss: 2.0818 - val_accuracy: 0.7404\n",
            "Epoch 38/50\n",
            "1407/1407 [==============================] - 25s 17ms/step - loss: 0.0756 - accuracy: 0.9775 - val_loss: 1.9563 - val_accuracy: 0.7394\n",
            "Epoch 39/50\n",
            "1407/1407 [==============================] - 24s 17ms/step - loss: 0.0701 - accuracy: 0.9797 - val_loss: 2.0100 - val_accuracy: 0.7350\n",
            "Epoch 40/50\n",
            "1407/1407 [==============================] - 24s 17ms/step - loss: 0.0642 - accuracy: 0.9805 - val_loss: 1.8851 - val_accuracy: 0.7488\n",
            "Epoch 41/50\n",
            "1407/1407 [==============================] - 24s 17ms/step - loss: 0.0693 - accuracy: 0.9788 - val_loss: 1.9889 - val_accuracy: 0.7506\n",
            "Epoch 42/50\n",
            "1407/1407 [==============================] - 24s 17ms/step - loss: 0.0870 - accuracy: 0.9758 - val_loss: 1.7642 - val_accuracy: 0.7380\n",
            "Epoch 43/50\n",
            "1407/1407 [==============================] - 24s 17ms/step - loss: 0.0622 - accuracy: 0.9815 - val_loss: 2.1206 - val_accuracy: 0.7418\n",
            "Epoch 44/50\n",
            "1407/1407 [==============================] - 25s 17ms/step - loss: 0.0636 - accuracy: 0.9831 - val_loss: 1.8900 - val_accuracy: 0.7438\n",
            "Epoch 45/50\n",
            "1407/1407 [==============================] - 24s 17ms/step - loss: 0.0576 - accuracy: 0.9830 - val_loss: 2.0149 - val_accuracy: 0.7472\n",
            "Epoch 46/50\n",
            "1407/1407 [==============================] - 24s 17ms/step - loss: 0.0826 - accuracy: 0.9788 - val_loss: 1.8821 - val_accuracy: 0.7526\n",
            "Epoch 47/50\n",
            "1407/1407 [==============================] - 25s 17ms/step - loss: 0.0586 - accuracy: 0.9841 - val_loss: 2.1610 - val_accuracy: 0.7468\n",
            "Epoch 48/50\n",
            "1407/1407 [==============================] - 24s 17ms/step - loss: 0.0621 - accuracy: 0.9823 - val_loss: 2.2282 - val_accuracy: 0.7344\n",
            "Epoch 49/50\n",
            "1407/1407 [==============================] - 25s 17ms/step - loss: 0.0595 - accuracy: 0.9836 - val_loss: 2.3848 - val_accuracy: 0.7460\n",
            "Epoch 50/50\n",
            "1407/1407 [==============================] - 24s 17ms/step - loss: 0.0658 - accuracy: 0.9820 - val_loss: 1.9172 - val_accuracy: 0.7440\n"
          ]
        }
      ],
      "source": [
        "history = model.fit(x_train,y_train,epochs=50,validation_split=0.1)"
      ]
    },
    {
      "cell_type": "code",
      "execution_count": 12,
      "metadata": {
        "colab": {
          "base_uri": "https://localhost:8080/"
        },
        "id": "iROIAAallk_v",
        "outputId": "5ea1f7d6-519c-4569-ef22-12fc8fb849c3"
      },
      "outputs": [
        {
          "name": "stdout",
          "output_type": "stream",
          "text": [
            "313/313 [==============================] - 4s 12ms/step - loss: 2.1266 - accuracy: 0.7337\n"
          ]
        },
        {
          "data": {
            "text/plain": [
              "0.7336999773979187"
            ]
          },
          "execution_count": 12,
          "metadata": {},
          "output_type": "execute_result"
        }
      ],
      "source": [
        "test_loss, test_acc = model.evaluate(x_test, y_test)\n",
        "test_acc"
      ]
    },
    {
      "cell_type": "code",
      "execution_count": 13,
      "metadata": {
        "colab": {
          "base_uri": "https://localhost:8080/",
          "height": 545
        },
        "id": "WyW58Pcelldf",
        "outputId": "b0851076-362f-426f-ec21-06cd12b767b7"
      },
      "outputs": [
        {
          "data": {
            "image/png": "[encoded data removed]",
            "text/plain": [
              "<Figure size 432x288 with 1 Axes>"
            ]
          },
          "metadata": {
            "needs_background": "light"
          },
          "output_type": "display_data"
        },
        {
          "data": {
            "image/png": "[encoded data removed]",
            "text/plain": [
              "<Figure size 432x288 with 1 Axes>"
            ]
          },
          "metadata": {
            "needs_background": "light"
          },
          "output_type": "display_data"
        }
      ],
      "source": [
        "import matplotlib.pyplot as plt\n",
        "accuracy = history.history[\"accuracy\"]\n",
        "val_accuracy = history.history[\"val_accuracy\"]\n",
        "loss = history.history[\"loss\"]\n",
        "val_loss = history.history[\"val_loss\"]\n",
        "epochs = range(1, len(accuracy) + 1)\n",
        "plt.plot(epochs, accuracy, \"bo\", label=\"Training accuracy\")\n",
        "plt.plot(epochs, val_accuracy, \"b\", label=\"Validation accuracy\")\n",
        "plt.title(\"Training and validation accuracy\")\n",
        "plt.legend()\n",
        "plt.figure()\n",
        "plt.plot(epochs, loss, \"bo\", label=\"Training loss\")\n",
        "plt.plot(epochs, val_loss, \"b\", label=\"Validation loss\")\n",
        "plt.title(\"Training and validation loss\")\n",
        "plt.legend()\n",
        "plt.show()"
      ]
    },
    {
      "cell_type": "code",
      "execution_count": 2,
      "metadata": {},
      "outputs": [
        {
          "data": {
            "text/html": [
              "<div>\n",
              "<style scoped>\n",
              "    .dataframe tbody tr th:only-of-type {\n",
              "        vertical-align: middle;\n",
              "    }\n",
              "\n",
              "    .dataframe tbody tr th {\n",
              "        vertical-align: top;\n",
              "    }\n",
              "\n",
              "    .dataframe thead th {\n",
              "        text-align: right;\n",
              "    }\n",
              "</style>\n",
              "<table border=\"1\" class=\"dataframe\">\n",
              "  <thead>\n",
              "    <tr style=\"text-align: right;\">\n",
              "      <th></th>\n",
              "      <th>Experiment</th>\n",
              "      <th>Testing Accuracy</th>\n",
              "    </tr>\n",
              "  </thead>\n",
              "  <tbody>\n",
              "    <tr>\n",
              "      <th>0</th>\n",
              "      <td>Revise CNN with four Convolution Layers</td>\n",
              "      <td>69.00%</td>\n",
              "    </tr>\n",
              "    <tr>\n",
              "      <th>1</th>\n",
              "      <td>Revise CNN with four Convolution Layers on aug...</td>\n",
              "      <td>73.00%</td>\n",
              "    </tr>\n",
              "    <tr>\n",
              "      <th>2</th>\n",
              "      <td>Revise VGG-16 Feature extraction</td>\n",
              "      <td>60.00%</td>\n",
              "    </tr>\n",
              "    <tr>\n",
              "      <th>3</th>\n",
              "      <td>Revise VGG-16 fine-tuning</td>\n",
              "      <td>73.00%</td>\n",
              "    </tr>\n",
              "  </tbody>\n",
              "</table>\n",
              "</div>"
            ],
            "text/plain": [
              "                                          Experiment Testing Accuracy\n",
              "0            Revise CNN with four Convolution Layers           69.00%\n",
              "1  Revise CNN with four Convolution Layers on aug...           73.00%\n",
              "2                   Revise VGG-16 Feature extraction           60.00%\n",
              "3                          Revise VGG-16 fine-tuning           73.00%"
            ]
          },
          "execution_count": 2,
          "metadata": {},
          "output_type": "execute_result"
        }
      ],
      "source": [
        "import pandas as pd\n",
        "expList = [\"Revise CNN with four Convolution Layers\",\"Revise CNN with four Convolution Layers on augmented data\",\"Revise VGG-16 Feature extraction\",\"Revise VGG-16 fine-tuning\"]\n",
        "accList = [0.69,0.73,0.60,0.73]\n",
        "\n",
        "\n",
        "for i in range(4):\n",
        "  accList[i] = \"{:.2f}\".format(accList[i]*100)+\"%\"\n",
        "\n",
        "summary = pd.DataFrame({\"Experiment\":expList,\"Testing Accuracy\":accList})\n",
        "summary"
      ]
    }
  ],
  "metadata": {
    "accelerator": "GPU",
    "colab": {
      "provenance": []
    },
    "gpuClass": "standard",
    "kernelspec": {
      "display_name": "Python 3.10.6 64-bit",
      "language": "python",
      "name": "python3"
    },
    "language_info": {
      "codemirror_mode": {
        "name": "ipython",
        "version": 3
      },
      "file_extension": ".py",
      "mimetype": "text/x-python",
      "name": "python",
      "nbconvert_exporter": "python",
      "pygments_lexer": "ipython3",
      "version": "3.10.6"
    },
    "vscode": {
      "interpreter": {
        "hash": "fbc768028c3e6ead51d9a200ddcb2ec858ae62844dcd1994729a8279be9b48f2"
      }
    }
  },
  "nbformat": 4,
  "nbformat_minor": 0
}
